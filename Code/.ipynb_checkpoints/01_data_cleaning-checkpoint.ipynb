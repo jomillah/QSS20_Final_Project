{
 "cells": [
  {
   "cell_type": "markdown",
   "metadata": {},
   "source": [
    "## Cleaning Data and Creating Sentence Severity Score"
   ]
  },
  {
   "cell_type": "markdown",
   "metadata": {},
   "source": [
    "## Load packages"
   ]
  },
  {
   "cell_type": "code",
   "execution_count": 1,
   "metadata": {},
   "outputs": [],
   "source": [
    "import pandas as pd\n",
    "import numpy as np\n",
    "import random\n",
    "import re\n",
    "import os\n",
    "\n",
    "## Note the code below is not a function, it just resets the output so it shows all lines\n",
    "\n",
    "from IPython.core.interactiveshell import InteractiveShell\n",
    "InteractiveShell.ast_node_interactivity = \"all\"\n"
   ]
  },
  {
   "cell_type": "markdown",
   "metadata": {},
   "source": [
    "## Functions"
   ]
  },
  {
   "cell_type": "code",
   "execution_count": 2,
   "metadata": {},
   "outputs": [
    {
     "data": {
      "text/plain": [
       "\"\\nScipy Source Docstring: \\n\\n    Compute the z score.\\n    Compute the z score of each value in the sample, relative to the\\n    sample mean and standard deviation.\\n    Parameters\\n    ----------\\n    a : array_like\\n        An array like object containing the sample data.\\n    axis : int or None, optional\\n        Axis along which to operate. Default is 0. If None, compute over\\n        the whole array `a`.\\n    ddof : int, optional\\n        Degrees of freedom correction in the calculation of the\\n        standard deviation. Default is 0.\\n    nan_policy : {'propagate', 'raise', 'omit'}, optional\\n        Defines how to handle when input contains nan. 'propagate' returns nan,\\n        'raise' throws an error, 'omit' performs the calculations ignoring nan\\n        values. Default is 'propagate'.  Note that when the value is 'omit',\\n        nans in the input also propagate to the output, but they do not affect\\n        the z-scores computed for the non-nan values.\\n    Returns\\n    -------\\n    zscore : array_like\\n        The z-scores, standardized by mean and standard deviation of\\n        input array `a`.\\n\\n\""
      ]
     },
     "execution_count": 2,
     "metadata": {},
     "output_type": "execute_result"
    }
   ],
   "source": [
    "## Z Score\n",
    "\n",
    "from scipy.stats import zscore\n",
    "\n",
    "\n",
    "\"\"\"\n",
    "Scipy Source Docstring: \n",
    "\n",
    "    Compute the z score.\n",
    "    Compute the z score of each value in the sample, relative to the\n",
    "    sample mean and standard deviation.\n",
    "    Parameters\n",
    "    ----------\n",
    "    a : array_like\n",
    "        An array like object containing the sample data.\n",
    "    axis : int or None, optional\n",
    "        Axis along which to operate. Default is 0. If None, compute over\n",
    "        the whole array `a`.\n",
    "    ddof : int, optional\n",
    "        Degrees of freedom correction in the calculation of the\n",
    "        standard deviation. Default is 0.\n",
    "    nan_policy : {'propagate', 'raise', 'omit'}, optional\n",
    "        Defines how to handle when input contains nan. 'propagate' returns nan,\n",
    "        'raise' throws an error, 'omit' performs the calculations ignoring nan\n",
    "        values. Default is 'propagate'.  Note that when the value is 'omit',\n",
    "        nans in the input also propagate to the output, but they do not affect\n",
    "        the z-scores computed for the non-nan values.\n",
    "    Returns\n",
    "    -------\n",
    "    zscore : array_like\n",
    "        The z-scores, standardized by mean and standard deviation of\n",
    "        input array `a`.\n",
    "\n",
    "\"\"\""
   ]
  },
  {
   "cell_type": "code",
   "execution_count": 3,
   "metadata": {},
   "outputs": [
    {
     "data": {
      "text/plain": [
       "'\"\\n    Remove outliers from a df using IQR * +/- 1.5 Method \\n\\n    Parameters:\\n    \\n    df: pandas.DataFrame\\n        The DataFrame from which to remove outliers\\n        \\n    col: str\\n        The Column from which to remove outliers\\n\\n    Outputs:\\n    \\n    pandas.DataFrame\\n        A new DataFrame subsetted to remove rows with outliers in the column in question\\n'"
      ]
     },
     "execution_count": 3,
     "metadata": {},
     "output_type": "execute_result"
    }
   ],
   "source": [
    "## Remove Outliers\n",
    "\n",
    "def remove_outliers(df, col):\n",
    "    \n",
    "    q1 = df[col].quantile(0.25)\n",
    "    q3 = df[col].quantile(0.75)\n",
    "    \n",
    "    iqr = q3 - q1\n",
    "    \n",
    "    lower = (q1 - 1.5) * iqr\n",
    "    upper = (q3 + 1.5) * iqr\n",
    "    \n",
    "    return df.loc[(df[col] > lower) & (df[col] < upper)]\n",
    "\n",
    "\"\"\"\"\n",
    "    Remove outliers from a df using IQR * +/- 1.5 Method \n",
    "\n",
    "    Parameters:\n",
    "    \n",
    "    df: pandas.DataFrame\n",
    "        The DataFrame from which to remove outliers\n",
    "        \n",
    "    col: str\n",
    "        The Column from which to remove outliers\n",
    "\n",
    "    Outputs:\n",
    "    \n",
    "    pandas.DataFrame\n",
    "        A new DataFrame subsetted to remove rows with outliers in the column in question\n",
    "\"\"\"\n",
    "        \n",
    "    "
   ]
  },
  {
   "cell_type": "markdown",
   "metadata": {},
   "source": [
    "## Load and inspect data "
   ]
  },
  {
   "cell_type": "code",
   "execution_count": 4,
   "metadata": {
    "scrolled": false
   },
   "outputs": [
    {
     "name": "stdout",
     "output_type": "stream",
     "text": [
      "        CASE_ID  CASE_PARTICIPANT_ID          RECEIVED_DATE  \\\n",
      "0  149765331439         175691153649  8/15/1984 12:00:00 AM   \n",
      "1  150065796098         162105612284  8/23/1984 12:00:00 AM   \n",
      "2  154954734978         225758446387   6/8/2001 12:00:00 AM   \n",
      "3  155222744754         217349881776  1/31/2001 12:00:00 AM   \n",
      "4  155327892699         217212381455   2/6/2001 12:00:00 AM   \n",
      "\n",
      "    OFFENSE_CATEGORY  PRIMARY_CHARGE_FLAG    CHARGE_ID  CHARGE_VERSION_ID  \\\n",
      "0  PROMIS Conversion                 True  50510062193       112898098217   \n",
      "1  PROMIS Conversion                 True  50792360681       113332130159   \n",
      "2  PROMIS Conversion                 True  54885211141       174293345821   \n",
      "3  PROMIS Conversion                 True  53899906462       280120721775   \n",
      "4  PROMIS Conversion                 True  53938518259       164877860811   \n",
      "\n",
      "                   DISPOSITION_CHARGED_OFFENSE_TITLE  CHARGE_COUNT  \\\n",
      "0                                FIRST DEGREE MURDER             1   \n",
      "1                                FIRST DEGREE MURDER             1   \n",
      "2                              VIO BAIL BOND/CLASS 1             1   \n",
      "3                    POSS AMT CON SUB EXCEPT (A)/(D)             1   \n",
      "4  DUI LIC SUSPENDED OR REVOKED (EFFECTIVE 4-13-2...             1   \n",
      "\n",
      "         DISPOSITION_DATE  ... simplified_offense_derived is_black_derived  \\\n",
      "0  12/17/2014 12:00:00 AM  ...                   Homicide             True   \n",
      "1    8/6/2014 12:00:00 AM  ...                   Homicide             True   \n",
      "2   12/2/2013 12:00:00 AM  ...          PROMIS Conversion            False   \n",
      "3   9/10/2012 12:00:00 AM  ...                  Narcotics             True   \n",
      "4   9/19/2014 12:00:00 AM  ...          PROMIS Conversion            False   \n",
      "\n",
      "  is_hisp_derived is_white_derived is_other_derived is_male_derived  \\\n",
      "0           False            False            False            True   \n",
      "1           False            False            False            True   \n",
      "2            True            False            False            True   \n",
      "3           False            False            False           False   \n",
      "4           False             True            False            True   \n",
      "\n",
      "  age_derived sentenceymd_derived sentenceym_derived judgeid_derived  \n",
      "0        27.0          2014-10-16         2014-10-01        judge_40  \n",
      "1        30.0          2014-08-06         2014-08-01       judge_310  \n",
      "2        38.0          2013-12-02         2013-12-01       judge_162  \n",
      "3        33.0          2012-09-10         2012-09-01       judge_331  \n",
      "4        49.0          2014-09-19         2014-09-01       judge_314  \n",
      "\n",
      "[5 rows x 52 columns]\n",
      "(135165, 52)\n",
      "<bound method DataFrame.info of              CASE_ID  CASE_PARTICIPANT_ID          RECEIVED_DATE  \\\n",
      "0       149765331439         175691153649  8/15/1984 12:00:00 AM   \n",
      "1       150065796098         162105612284  8/23/1984 12:00:00 AM   \n",
      "2       154954734978         225758446387   6/8/2001 12:00:00 AM   \n",
      "3       155222744754         217349881776  1/31/2001 12:00:00 AM   \n",
      "4       155327892699         217212381455   2/6/2001 12:00:00 AM   \n",
      "...              ...                  ...                    ...   \n",
      "135160  445516248775         905289187184   2/3/2021 12:00:00 AM   \n",
      "135161  445527409730         905322500577   2/4/2021 12:00:00 AM   \n",
      "135162  445587767000         905518794790   2/9/2021 12:00:00 AM   \n",
      "135163  445592613204         905533705601   2/9/2021 12:00:00 AM   \n",
      "135164  445593200623         905535215556   2/9/2021 12:00:00 AM   \n",
      "\n",
      "                                 OFFENSE_CATEGORY  PRIMARY_CHARGE_FLAG  \\\n",
      "0                               PROMIS Conversion                 True   \n",
      "1                               PROMIS Conversion                 True   \n",
      "2                               PROMIS Conversion                 True   \n",
      "3                               PROMIS Conversion                 True   \n",
      "4                               PROMIS Conversion                 True   \n",
      "...                                           ...                  ...   \n",
      "135160                              Home Invasion                 True   \n",
      "135161                           Domestic Battery                 True   \n",
      "135162  Driving With Suspended Or Revoked License                 True   \n",
      "135163  Driving With Suspended Or Revoked License                 True   \n",
      "135164  Driving With Suspended Or Revoked License                 True   \n",
      "\n",
      "           CHARGE_ID  CHARGE_VERSION_ID  \\\n",
      "0        50510062193       112898098217   \n",
      "1        50792360681       113332130159   \n",
      "2        54885211141       174293345821   \n",
      "3        53899906462       280120721775   \n",
      "4        53938518259       164877860811   \n",
      "...              ...                ...   \n",
      "135160  447867029248       836341344232   \n",
      "135161  447970697900       836537247156   \n",
      "135162  447955866546       837760215766   \n",
      "135163  447966223356       837758347354   \n",
      "135164  447966323908       837759561822   \n",
      "\n",
      "                        DISPOSITION_CHARGED_OFFENSE_TITLE  CHARGE_COUNT  \\\n",
      "0                                     FIRST DEGREE MURDER             1   \n",
      "1                                     FIRST DEGREE MURDER             1   \n",
      "2                                   VIO BAIL BOND/CLASS 1             1   \n",
      "3                         POSS AMT CON SUB EXCEPT (A)/(D)             1   \n",
      "4       DUI LIC SUSPENDED OR REVOKED (EFFECTIVE 4-13-2...             1   \n",
      "...                                                   ...           ...   \n",
      "135160                  AGGRAVATED UNLAWFUL USE OF WEAPON             1   \n",
      "135161                                   DOMESTIC BATTERY             1   \n",
      "135162                       DRIVING ON SUSPENDED LICENSE             1   \n",
      "135163                       DRIVING ON SUSPENDED LICENSE             1   \n",
      "135164                       DRIVING ON SUSPENDED LICENSE             1   \n",
      "\n",
      "              DISPOSITION_DATE  ...  \\\n",
      "0       12/17/2014 12:00:00 AM  ...   \n",
      "1         8/6/2014 12:00:00 AM  ...   \n",
      "2        12/2/2013 12:00:00 AM  ...   \n",
      "3        9/10/2012 12:00:00 AM  ...   \n",
      "4        9/19/2014 12:00:00 AM  ...   \n",
      "...                        ...  ...   \n",
      "135160   3/19/2021 12:00:00 AM  ...   \n",
      "135161   3/23/2021 12:00:00 AM  ...   \n",
      "135162   3/11/2021 12:00:00 AM  ...   \n",
      "135163   3/11/2021 12:00:00 AM  ...   \n",
      "135164   3/21/2021 12:00:00 AM  ...   \n",
      "\n",
      "                       simplified_offense_derived is_black_derived  \\\n",
      "0                                        Homicide             True   \n",
      "1                                        Homicide             True   \n",
      "2                               PROMIS Conversion            False   \n",
      "3                                       Narcotics             True   \n",
      "4                               PROMIS Conversion            False   \n",
      "...                                           ...              ...   \n",
      "135160               UUW - Unlawful Use of Weapon             True   \n",
      "135161                                    Battery             True   \n",
      "135162  Driving With Suspended Or Revoked License            False   \n",
      "135163  Driving With Suspended Or Revoked License            False   \n",
      "135164  Driving With Suspended Or Revoked License            False   \n",
      "\n",
      "       is_hisp_derived is_white_derived is_other_derived is_male_derived  \\\n",
      "0                False            False            False            True   \n",
      "1                False            False            False            True   \n",
      "2                 True            False            False            True   \n",
      "3                False            False            False           False   \n",
      "4                False             True            False            True   \n",
      "...                ...              ...              ...             ...   \n",
      "135160           False            False            False           False   \n",
      "135161           False            False            False            True   \n",
      "135162           False             True            False            True   \n",
      "135163           False             True            False            True   \n",
      "135164           False             True            False            True   \n",
      "\n",
      "       age_derived sentenceymd_derived sentenceym_derived judgeid_derived  \n",
      "0             27.0          2014-10-16         2014-10-01        judge_40  \n",
      "1             30.0          2014-08-06         2014-08-01       judge_310  \n",
      "2             38.0          2013-12-02         2013-12-01       judge_162  \n",
      "3             33.0          2012-09-10         2012-09-01       judge_331  \n",
      "4             49.0          2014-09-19         2014-09-01       judge_314  \n",
      "...            ...                 ...                ...             ...  \n",
      "135160        19.0          2021-03-19         2021-03-01         judge_8  \n",
      "135161        32.0          2021-03-23         2021-03-01       judge_294  \n",
      "135162        29.0          2021-03-11         2021-03-01        judge_99  \n",
      "135163        29.0          2021-03-11         2021-03-01        judge_99  \n",
      "135164        30.0          2021-03-11         2021-03-01        judge_99  \n",
      "\n",
      "[135165 rows x 52 columns]>\n"
     ]
    }
   ],
   "source": [
    "sentencing_data_cleaned = pd.read_csv(\"../Data/sentencing_cleaned.csv\", low_memory = False)\n",
    "\n",
    "print(sentencing_data_cleaned.head())\n",
    "print(sentencing_data_cleaned.shape)\n",
    "print(sentencing_data_cleaned.info)\n"
   ]
  },
  {
   "cell_type": "markdown",
   "metadata": {},
   "source": [
    "## Create Standard Sentence Length Variable"
   ]
  },
  {
   "cell_type": "code",
   "execution_count": 5,
   "metadata": {},
   "outputs": [
    {
     "name": "stdout",
     "output_type": "stream",
     "text": [
      "(69346, 52)\n"
     ]
    },
    {
     "name": "stderr",
     "output_type": "stream",
     "text": [
      "/var/folders/k3/stjkbqfd2rjbs1gs8py1dffc0000gn/T/ipykernel_73912/3586829223.py:13: SettingWithCopyWarning: \n",
      "A value is trying to be set on a copy of a slice from a DataFrame.\n",
      "Try using .loc[row_indexer,col_indexer] = value instead\n",
      "\n",
      "See the caveats in the documentation: https://pandas.pydata.org/pandas-docs/stable/user_guide/indexing.html#returning-a-view-versus-a-copy\n",
      "  sentencing_df[\"COMMITMENT_TERM\"] = sentencing_df[\"COMMITMENT_TERM\"].astype(float)\n"
     ]
    },
    {
     "name": "stdout",
     "output_type": "stream",
     "text": [
      "<bound method NDFrame.head of 0          62.000000\n",
      "1         100.000000\n",
      "2           3.000000\n",
      "7          20.000000\n",
      "8           6.000000\n",
      "             ...    \n",
      "135158      1.000000\n",
      "135159      0.328767\n",
      "135162      0.123288\n",
      "135163      0.123288\n",
      "135164      0.123288\n",
      "Name: sentence_length, Length: 69346, dtype: float64>\n"
     ]
    },
    {
     "name": "stderr",
     "output_type": "stream",
     "text": [
      "/var/folders/k3/stjkbqfd2rjbs1gs8py1dffc0000gn/T/ipykernel_73912/3586829223.py:16: SettingWithCopyWarning: \n",
      "A value is trying to be set on a copy of a slice from a DataFrame.\n",
      "Try using .loc[row_indexer,col_indexer] = value instead\n",
      "\n",
      "See the caveats in the documentation: https://pandas.pydata.org/pandas-docs/stable/user_guide/indexing.html#returning-a-view-versus-a-copy\n",
      "  sentencing_df[\"sentence_length\"] = sentencing_df.apply(lambda row: row[\"COMMITMENT_TERM\"] if row[\"COMMITMENT_UNIT\"] == \"Year(s)\" else\n"
     ]
    }
   ],
   "source": [
    "## Creating standardized sentence length (sentence_length) variable\n",
    "\n",
    "## Subsetting to just units of days, years, months, and life sentences (Note: we are equating one life sentence to be 100 years)\n",
    "\n",
    "sentencing_df = sentencing_data_cleaned[sentencing_data_cleaned[\"COMMITMENT_UNIT\"].isin([\"Year(s)\", \"Natural Life\", \"Days\", \"Months\"]) & sentencing_data_cleaned[\"COMMITMENT_TYPE\"].isin([\"Illinois Department of Corrections\", \"Cook County Department of Corrections\"]) & sentencing_data_cleaned[\"CHARGE_DISPOSITION\"].isin([\"Plea Of Guilty\", \"Verdict Guilty\"]) & sentencing_data_cleaned[\"PRIMARY_CHARGE_FLAG\"] == True]\n",
    "\n",
    "## Checking to make sure subset is correct\n",
    "\n",
    "print(sentencing_df.shape)\n",
    "\n",
    "## Need to change Commitment Term from String to Float\n",
    "\n",
    "sentencing_df[\"COMMITMENT_TERM\"] = sentencing_df[\"COMMITMENT_TERM\"].astype(float)\n",
    "\n",
    "\n",
    "## Creating sentence length variable (in years) (Didn't make this a function because we used this methodology in class, and also because it's too specific an operation to generalize)\n",
    "\n",
    "sentencing_df[\"sentence_length\"] = sentencing_df.apply(lambda row: row[\"COMMITMENT_TERM\"] if row[\"COMMITMENT_UNIT\"] == \"Year(s)\" else  \n",
    "                                                       100 if row[\"COMMITMENT_UNIT\"] == \"Natural Life\" else\n",
    "                                                       row[\"COMMITMENT_TERM\"] / 365 if row[\"COMMITMENT_UNIT\"] == \"Days\" else \n",
    "                                                       row[\"COMMITMENT_TERM\"] / 12 if row[\"COMMITMENT_UNIT\"] == \"Months\" else None, axis = 1)\n",
    "\n",
    "## Check to make sure variable created currectly \n",
    "\n",
    "print(sentencing_df[\"sentence_length\"].head)\n",
    "\n",
    "\n"
   ]
  },
  {
   "cell_type": "markdown",
   "metadata": {},
   "source": [
    "## Make Sentence Severity Score using Z score "
   ]
  },
  {
   "cell_type": "code",
   "execution_count": 6,
   "metadata": {},
   "outputs": [
    {
     "name": "stdout",
     "output_type": "stream",
     "text": [
      "0    1.071864\n",
      "1    2.846758\n",
      "2   -0.734968\n",
      "7    0.836916\n",
      "8    0.064078\n",
      "Name: sentence_length_zscore, dtype: float64\n"
     ]
    },
    {
     "name": "stderr",
     "output_type": "stream",
     "text": [
      "/var/folders/k3/stjkbqfd2rjbs1gs8py1dffc0000gn/T/ipykernel_73912/3058612266.py:5: SettingWithCopyWarning: \n",
      "A value is trying to be set on a copy of a slice from a DataFrame.\n",
      "Try using .loc[row_indexer,col_indexer] = value instead\n",
      "\n",
      "See the caveats in the documentation: https://pandas.pydata.org/pandas-docs/stable/user_guide/indexing.html#returning-a-view-versus-a-copy\n",
      "  sentencing_df[\"sentence_length_zscore\"] = sentencing_df.groupby(\"DISPOSITION_CHARGED_OFFENSE_TITLE\")[\"sentence_length\"].transform(zscore)\n"
     ]
    }
   ],
   "source": [
    "## Need to convert sentencing unit to something standardizable across crimes \n",
    "\n",
    "## To do this will use a z score (how many standard deviations something is from the mean) grouped by the exact same charge type (DISPOSITION_CHARGED_OFFENSE_TITLE)\n",
    "\n",
    "\n",
    "sentencing_df[\"sentence_length_zscore\"] = sentencing_df.groupby(\"DISPOSITION_CHARGED_OFFENSE_TITLE\")[\"sentence_length\"].transform(zscore)\n",
    "\n",
    "## Make sure variable created correctly\n",
    "\n",
    "print(sentencing_df[\"sentence_length_zscore\"].head())\n",
    "\n"
   ]
  },
  {
   "cell_type": "markdown",
   "metadata": {},
   "source": [
    "# Eliminate Outliers (from sentence_length_zscore) That Would Skew Analysis"
   ]
  },
  {
   "cell_type": "code",
   "execution_count": 7,
   "metadata": {},
   "outputs": [
    {
     "name": "stdout",
     "output_type": "stream",
     "text": [
      "116222    98.691965\n",
      "Name: sentence_length_zscore, dtype: float64\n",
      "133901   -3.482217\n",
      "Name: sentence_length_zscore, dtype: float64\n",
      "8505      1.542805\n",
      "19024     1.542805\n",
      "28289     1.542805\n",
      "38138     1.542805\n",
      "39817     1.542805\n",
      "43780     1.542805\n",
      "51373     1.542805\n",
      "83295     1.542805\n",
      "108684    1.542805\n",
      "113699    1.542805\n",
      "114108    1.542805\n",
      "Name: sentence_length_zscore, dtype: float64\n",
      "103853   -1.74384\n",
      "Name: sentence_length_zscore, dtype: float64\n",
      "(69346, 54) (65857, 54)\n"
     ]
    }
   ],
   "source": [
    "## Eliminating outliers w basic IQR * 1.5 Method \n",
    "\n",
    "## Examples of why we need to eliminate outliers (max and min magnitudes are way different): \n",
    "\n",
    "print(sentencing_df[\"sentence_length_zscore\"][sentencing_df[\"sentence_length_zscore\"] == max(sentencing_df[\"sentence_length_zscore\"])])\n",
    "print(sentencing_df[\"sentence_length_zscore\"][sentencing_df[\"sentence_length_zscore\"] == min(sentencing_df[\"sentence_length_zscore\"])])\n",
    "\n",
    "## using remove_outliers() (defined above) to remove outliers using IQR method: \n",
    "\n",
    "sentencing_df_no_outliers = remove_outliers(sentencing_df, \"sentence_length_zscore\")\n",
    "\n",
    "## Checking to see that this method worked and brought max and min magnitudes closer: \n",
    "\n",
    "print(sentencing_df_no_outliers[\"sentence_length_zscore\"][sentencing_df_no_outliers[\"sentence_length_zscore\"] == max(sentencing_df_no_outliers[\"sentence_length_zscore\"])])\n",
    "print(sentencing_df_no_outliers[\"sentence_length_zscore\"][sentencing_df_no_outliers[\"sentence_length_zscore\"] == min(sentencing_df_no_outliers[\"sentence_length_zscore\"])])\n",
    "\n",
    "## Checking how many rows did we lose: \n",
    "\n",
    "print(sentencing_df.shape, sentencing_df_no_outliers.shape)\n"
   ]
  },
  {
   "cell_type": "markdown",
   "metadata": {},
   "source": [
    "## Export data as csv file to Data folder "
   ]
  },
  {
   "cell_type": "code",
   "execution_count": 8,
   "metadata": {},
   "outputs": [],
   "source": [
    "## Exporting CSV to be used in the next file (Creating dependent variables)\n",
    "\n",
    "sentencing_df_no_outliers.to_csv(r'../Data/sentencing_data_withZ.csv')"
   ]
  }
 ],
 "metadata": {
  "kernelspec": {
   "display_name": "Python 3 (ipykernel)",
   "language": "python",
   "name": "python3"
  },
  "language_info": {
   "codemirror_mode": {
    "name": "ipython",
    "version": 3
   },
   "file_extension": ".py",
   "mimetype": "text/x-python",
   "name": "python",
   "nbconvert_exporter": "python",
   "pygments_lexer": "ipython3",
   "version": "3.9.7"
  }
 },
 "nbformat": 4,
 "nbformat_minor": 4
}
