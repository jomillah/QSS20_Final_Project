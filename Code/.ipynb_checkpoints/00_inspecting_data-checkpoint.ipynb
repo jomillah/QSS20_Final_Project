{
 "cells": [
  {
   "cell_type": "markdown",
   "metadata": {},
   "source": [
    "## Investigating Initial Dataset"
   ]
  },
  {
   "cell_type": "markdown",
   "metadata": {},
   "source": [
    "## Load packages"
   ]
  },
  {
   "cell_type": "code",
   "execution_count": 1,
   "metadata": {},
   "outputs": [],
   "source": [
    "import pandas as pd\n",
    "import numpy as np\n",
    "import random\n",
    "import re\n",
    "import os\n",
    "\n",
    "## Note the code below is not a function, it just resets the output so it shows all lines\n",
    "\n",
    "\n",
    "from IPython.core.interactiveshell import InteractiveShell\n",
    "InteractiveShell.ast_node_interactivity = \"all\"\n"
   ]
  },
  {
   "cell_type": "markdown",
   "metadata": {},
   "source": [
    "## Loading data "
   ]
  },
  {
   "cell_type": "code",
   "execution_count": 2,
   "metadata": {
    "scrolled": false
   },
   "outputs": [],
   "source": [
    "sentencing_data_cleaned = pd.read_csv(\"../Data/sentencing_cleaned.csv\", low_memory = False)"
   ]
  },
  {
   "cell_type": "markdown",
   "metadata": {},
   "source": [
    "## Initial Inspecting Data"
   ]
  },
  {
   "cell_type": "code",
   "execution_count": 3,
   "metadata": {},
   "outputs": [
    {
     "name": "stdout",
     "output_type": "stream",
     "text": [
      "        CASE_ID  CASE_PARTICIPANT_ID          RECEIVED_DATE  \\\n",
      "0  149765331439         175691153649  8/15/1984 12:00:00 AM   \n",
      "1  150065796098         162105612284  8/23/1984 12:00:00 AM   \n",
      "2  154954734978         225758446387   6/8/2001 12:00:00 AM   \n",
      "3  155222744754         217349881776  1/31/2001 12:00:00 AM   \n",
      "4  155327892699         217212381455   2/6/2001 12:00:00 AM   \n",
      "\n",
      "    OFFENSE_CATEGORY  PRIMARY_CHARGE_FLAG    CHARGE_ID  CHARGE_VERSION_ID  \\\n",
      "0  PROMIS Conversion                 True  50510062193       112898098217   \n",
      "1  PROMIS Conversion                 True  50792360681       113332130159   \n",
      "2  PROMIS Conversion                 True  54885211141       174293345821   \n",
      "3  PROMIS Conversion                 True  53899906462       280120721775   \n",
      "4  PROMIS Conversion                 True  53938518259       164877860811   \n",
      "\n",
      "                   DISPOSITION_CHARGED_OFFENSE_TITLE  CHARGE_COUNT  \\\n",
      "0                                FIRST DEGREE MURDER             1   \n",
      "1                                FIRST DEGREE MURDER             1   \n",
      "2                              VIO BAIL BOND/CLASS 1             1   \n",
      "3                    POSS AMT CON SUB EXCEPT (A)/(D)             1   \n",
      "4  DUI LIC SUSPENDED OR REVOKED (EFFECTIVE 4-13-2...             1   \n",
      "\n",
      "         DISPOSITION_DATE  ... simplified_offense_derived is_black_derived  \\\n",
      "0  12/17/2014 12:00:00 AM  ...                   Homicide             True   \n",
      "1    8/6/2014 12:00:00 AM  ...                   Homicide             True   \n",
      "2   12/2/2013 12:00:00 AM  ...          PROMIS Conversion            False   \n",
      "3   9/10/2012 12:00:00 AM  ...                  Narcotics             True   \n",
      "4   9/19/2014 12:00:00 AM  ...          PROMIS Conversion            False   \n",
      "\n",
      "  is_hisp_derived is_white_derived is_other_derived is_male_derived  \\\n",
      "0           False            False            False            True   \n",
      "1           False            False            False            True   \n",
      "2            True            False            False            True   \n",
      "3           False            False            False           False   \n",
      "4           False             True            False            True   \n",
      "\n",
      "  age_derived sentenceymd_derived sentenceym_derived judgeid_derived  \n",
      "0        27.0          2014-10-16         2014-10-01        judge_40  \n",
      "1        30.0          2014-08-06         2014-08-01       judge_310  \n",
      "2        38.0          2013-12-02         2013-12-01       judge_162  \n",
      "3        33.0          2012-09-10         2012-09-01       judge_331  \n",
      "4        49.0          2014-09-19         2014-09-01       judge_314  \n",
      "\n",
      "[5 rows x 52 columns]\n",
      "(135165, 52)\n",
      "<bound method DataFrame.info of              CASE_ID  CASE_PARTICIPANT_ID          RECEIVED_DATE  \\\n",
      "0       149765331439         175691153649  8/15/1984 12:00:00 AM   \n",
      "1       150065796098         162105612284  8/23/1984 12:00:00 AM   \n",
      "2       154954734978         225758446387   6/8/2001 12:00:00 AM   \n",
      "3       155222744754         217349881776  1/31/2001 12:00:00 AM   \n",
      "4       155327892699         217212381455   2/6/2001 12:00:00 AM   \n",
      "...              ...                  ...                    ...   \n",
      "135160  445516248775         905289187184   2/3/2021 12:00:00 AM   \n",
      "135161  445527409730         905322500577   2/4/2021 12:00:00 AM   \n",
      "135162  445587767000         905518794790   2/9/2021 12:00:00 AM   \n",
      "135163  445592613204         905533705601   2/9/2021 12:00:00 AM   \n",
      "135164  445593200623         905535215556   2/9/2021 12:00:00 AM   \n",
      "\n",
      "                                 OFFENSE_CATEGORY  PRIMARY_CHARGE_FLAG  \\\n",
      "0                               PROMIS Conversion                 True   \n",
      "1                               PROMIS Conversion                 True   \n",
      "2                               PROMIS Conversion                 True   \n",
      "3                               PROMIS Conversion                 True   \n",
      "4                               PROMIS Conversion                 True   \n",
      "...                                           ...                  ...   \n",
      "135160                              Home Invasion                 True   \n",
      "135161                           Domestic Battery                 True   \n",
      "135162  Driving With Suspended Or Revoked License                 True   \n",
      "135163  Driving With Suspended Or Revoked License                 True   \n",
      "135164  Driving With Suspended Or Revoked License                 True   \n",
      "\n",
      "           CHARGE_ID  CHARGE_VERSION_ID  \\\n",
      "0        50510062193       112898098217   \n",
      "1        50792360681       113332130159   \n",
      "2        54885211141       174293345821   \n",
      "3        53899906462       280120721775   \n",
      "4        53938518259       164877860811   \n",
      "...              ...                ...   \n",
      "135160  447867029248       836341344232   \n",
      "135161  447970697900       836537247156   \n",
      "135162  447955866546       837760215766   \n",
      "135163  447966223356       837758347354   \n",
      "135164  447966323908       837759561822   \n",
      "\n",
      "                        DISPOSITION_CHARGED_OFFENSE_TITLE  CHARGE_COUNT  \\\n",
      "0                                     FIRST DEGREE MURDER             1   \n",
      "1                                     FIRST DEGREE MURDER             1   \n",
      "2                                   VIO BAIL BOND/CLASS 1             1   \n",
      "3                         POSS AMT CON SUB EXCEPT (A)/(D)             1   \n",
      "4       DUI LIC SUSPENDED OR REVOKED (EFFECTIVE 4-13-2...             1   \n",
      "...                                                   ...           ...   \n",
      "135160                  AGGRAVATED UNLAWFUL USE OF WEAPON             1   \n",
      "135161                                   DOMESTIC BATTERY             1   \n",
      "135162                       DRIVING ON SUSPENDED LICENSE             1   \n",
      "135163                       DRIVING ON SUSPENDED LICENSE             1   \n",
      "135164                       DRIVING ON SUSPENDED LICENSE             1   \n",
      "\n",
      "              DISPOSITION_DATE  ...  \\\n",
      "0       12/17/2014 12:00:00 AM  ...   \n",
      "1         8/6/2014 12:00:00 AM  ...   \n",
      "2        12/2/2013 12:00:00 AM  ...   \n",
      "3        9/10/2012 12:00:00 AM  ...   \n",
      "4        9/19/2014 12:00:00 AM  ...   \n",
      "...                        ...  ...   \n",
      "135160   3/19/2021 12:00:00 AM  ...   \n",
      "135161   3/23/2021 12:00:00 AM  ...   \n",
      "135162   3/11/2021 12:00:00 AM  ...   \n",
      "135163   3/11/2021 12:00:00 AM  ...   \n",
      "135164   3/21/2021 12:00:00 AM  ...   \n",
      "\n",
      "                       simplified_offense_derived is_black_derived  \\\n",
      "0                                        Homicide             True   \n",
      "1                                        Homicide             True   \n",
      "2                               PROMIS Conversion            False   \n",
      "3                                       Narcotics             True   \n",
      "4                               PROMIS Conversion            False   \n",
      "...                                           ...              ...   \n",
      "135160               UUW - Unlawful Use of Weapon             True   \n",
      "135161                                    Battery             True   \n",
      "135162  Driving With Suspended Or Revoked License            False   \n",
      "135163  Driving With Suspended Or Revoked License            False   \n",
      "135164  Driving With Suspended Or Revoked License            False   \n",
      "\n",
      "       is_hisp_derived is_white_derived is_other_derived is_male_derived  \\\n",
      "0                False            False            False            True   \n",
      "1                False            False            False            True   \n",
      "2                 True            False            False            True   \n",
      "3                False            False            False           False   \n",
      "4                False             True            False            True   \n",
      "...                ...              ...              ...             ...   \n",
      "135160           False            False            False           False   \n",
      "135161           False            False            False            True   \n",
      "135162           False             True            False            True   \n",
      "135163           False             True            False            True   \n",
      "135164           False             True            False            True   \n",
      "\n",
      "       age_derived sentenceymd_derived sentenceym_derived judgeid_derived  \n",
      "0             27.0          2014-10-16         2014-10-01        judge_40  \n",
      "1             30.0          2014-08-06         2014-08-01       judge_310  \n",
      "2             38.0          2013-12-02         2013-12-01       judge_162  \n",
      "3             33.0          2012-09-10         2012-09-01       judge_331  \n",
      "4             49.0          2014-09-19         2014-09-01       judge_314  \n",
      "...            ...                 ...                ...             ...  \n",
      "135160        19.0          2021-03-19         2021-03-01         judge_8  \n",
      "135161        32.0          2021-03-23         2021-03-01       judge_294  \n",
      "135162        29.0          2021-03-11         2021-03-01        judge_99  \n",
      "135163        29.0          2021-03-11         2021-03-01        judge_99  \n",
      "135164        30.0          2021-03-11         2021-03-01        judge_99  \n",
      "\n",
      "[135165 rows x 52 columns]>\n"
     ]
    },
    {
     "data": {
      "text/plain": [
       "Index(['CASE_ID', 'CASE_PARTICIPANT_ID', 'RECEIVED_DATE', 'OFFENSE_CATEGORY',\n",
       "       'PRIMARY_CHARGE_FLAG', 'CHARGE_ID', 'CHARGE_VERSION_ID',\n",
       "       'DISPOSITION_CHARGED_OFFENSE_TITLE', 'CHARGE_COUNT', 'DISPOSITION_DATE',\n",
       "       'DISPOSITION_CHARGED_CHAPTER', 'DISPOSITION_CHARGED_ACT',\n",
       "       'DISPOSITION_CHARGED_SECTION', 'DISPOSITION_CHARGED_CLASS',\n",
       "       'DISPOSITION_CHARGED_AOIC', 'CHARGE_DISPOSITION',\n",
       "       'CHARGE_DISPOSITION_REASON', 'SENTENCE_JUDGE', 'SENTENCE_COURT_NAME',\n",
       "       'SENTENCE_COURT_FACILITY', 'SENTENCE_PHASE', 'SENTENCE_DATE',\n",
       "       'SENTENCE_TYPE', 'CURRENT_SENTENCE_FLAG', 'COMMITMENT_TYPE',\n",
       "       'COMMITMENT_TERM', 'COMMITMENT_UNIT', 'LENGTH_OF_CASE_in_Days',\n",
       "       'AGE_AT_INCIDENT', 'RACE', 'GENDER', 'INCIDENT_CITY',\n",
       "       'INCIDENT_BEGIN_DATE', 'INCIDENT_END_DATE', 'LAW_ENFORCEMENT_AGENCY',\n",
       "       'LAW_ENFORCEMENT_UNIT', 'ARREST_DATE', 'FELONY_REVIEW_DATE',\n",
       "       'FELONY_REVIEW_RESULT', 'ARRAIGNMENT_DATE', 'UPDATED_OFFENSE_CATEGORY',\n",
       "       'is_changed_offense', 'simplified_offense_derived', 'is_black_derived',\n",
       "       'is_hisp_derived', 'is_white_derived', 'is_other_derived',\n",
       "       'is_male_derived', 'age_derived', 'sentenceymd_derived',\n",
       "       'sentenceym_derived', 'judgeid_derived'],\n",
       "      dtype='object')"
      ]
     },
     "execution_count": 3,
     "metadata": {},
     "output_type": "execute_result"
    }
   ],
   "source": [
    "print(sentencing_data_cleaned.head())\n",
    "print(sentencing_data_cleaned.shape)\n",
    "print(sentencing_data_cleaned.info)\n"
   ]
  },
  {
   "cell_type": "markdown",
   "metadata": {},
   "source": [
    "## Simplify Data For Summary Table"
   ]
  },
  {
   "cell_type": "code",
   "execution_count": null,
   "metadata": {},
   "outputs": [],
   "source": [
    "## Summary table subset to include variables relevant to our analysis + variables that show number of observations in the dataset as a whole \n",
    "\n",
    "table_df = sentencing_data_cleaned[[\"CASE_ID\", \"sentenceymd_derived\", \"age_derived\", \"CASE_PARTICIPANT_ID\", \"DISPOSITION_CHARGED_OFFENSE_TITLE\", \"simplified_offense_derived\", \"judgeid_derived\", \"RACE\", \"CHARGE_DISPOSITION\", \"GENDER\", \"COMMITMENT_TYPE\", \"COMMITMENT_UNIT\", \"COMMITMENT_TERM\", \"PRIMARY_CHARGE_FLAG\"]]\n",
    "\n",
    "## Converting Confusing Numerics to Strings:\n",
    "\n",
    "table_df[[\"CASE_ID\", \"CASE_PARTICIPANT_ID\"]] = str([\"CASE_ID\", \"CASE_PARTICIPANT_ID\"])\n",
    "\n",
    "## Converting Dates (sentenceymd_derived) to Datetime:\n",
    "\n",
    "table_df[\"sentenceymd_derived\"] = pd.to_datetime(table_df[\"sentenceymd_derived\"])"
   ]
  },
  {
   "cell_type": "markdown",
   "metadata": {},
   "source": [
    "## Create Simplified Summary Table for Data"
   ]
  },
  {
   "cell_type": "code",
   "execution_count": 8,
   "metadata": {},
   "outputs": [
    {
     "name": "stderr",
     "output_type": "stream",
     "text": [
      "/var/folders/k3/stjkbqfd2rjbs1gs8py1dffc0000gn/T/ipykernel_73360/2419487772.py:8: SettingWithCopyWarning: \n",
      "A value is trying to be set on a copy of a slice from a DataFrame.\n",
      "Try using .loc[row_indexer,col_indexer] = value instead\n",
      "\n",
      "See the caveats in the documentation: https://pandas.pydata.org/pandas-docs/stable/user_guide/indexing.html#returning-a-view-versus-a-copy\n",
      "  table_df[[\"CASE_ID\", \"CASE_PARTICIPANT_ID\"]] = str([\"CASE_ID\", \"CASE_PARTICIPANT_ID\"])\n",
      "/var/folders/k3/stjkbqfd2rjbs1gs8py1dffc0000gn/T/ipykernel_73360/2419487772.py:12: SettingWithCopyWarning: \n",
      "A value is trying to be set on a copy of a slice from a DataFrame.\n",
      "Try using .loc[row_indexer,col_indexer] = value instead\n",
      "\n",
      "See the caveats in the documentation: https://pandas.pydata.org/pandas-docs/stable/user_guide/indexing.html#returning-a-view-versus-a-copy\n",
      "  table_df[\"sentenceymd_derived\"] = pd.to_datetime(table_df[\"sentenceymd_derived\"])\n"
     ]
    },
    {
     "ename": "NameError",
     "evalue": "name 'printsummary_table' is not defined",
     "output_type": "error",
     "traceback": [
      "\u001b[0;31m---------------------------------------------------------------------------\u001b[0m",
      "\u001b[0;31mNameError\u001b[0m                                 Traceback (most recent call last)",
      "\u001b[0;32m/var/folders/k3/stjkbqfd2rjbs1gs8py1dffc0000gn/T/ipykernel_73360/2419487772.py\u001b[0m in \u001b[0;36m<module>\u001b[0;34m\u001b[0m\n\u001b[1;32m     18\u001b[0m \u001b[0;31m## Verify Table Was Created Properly\u001b[0m\u001b[0;34m\u001b[0m\u001b[0;34m\u001b[0m\u001b[0m\n\u001b[1;32m     19\u001b[0m \u001b[0;34m\u001b[0m\u001b[0m\n\u001b[0;32m---> 20\u001b[0;31m \u001b[0mprintsummary_table\u001b[0m\u001b[0;34m\u001b[0m\u001b[0;34m\u001b[0m\u001b[0m\n\u001b[0m",
      "\u001b[0;31mNameError\u001b[0m: name 'printsummary_table' is not defined"
     ]
    }
   ],
   "source": [
    "## Creating simplified summary table for data: \n",
    "\n",
    "summary_table = table_df.describe(include = [\"datetime\", \"int\", \"float\", \"object\"], datetime_is_numeric = True)\n",
    "\n",
    "## Verify Table Was Created Properly \n",
    "\n",
    "print(summary_table)\n"
   ]
  },
  {
   "cell_type": "markdown",
   "metadata": {},
   "source": [
    "## Exporting Summary Table "
   ]
  },
  {
   "cell_type": "code",
   "execution_count": 6,
   "metadata": {},
   "outputs": [],
   "source": [
    "summary_table.to_csv(r'../Output/Tables/Simplified_Summary_Table.csv')"
   ]
  }
 ],
 "metadata": {
  "kernelspec": {
   "display_name": "Python 3 (ipykernel)",
   "language": "python",
   "name": "python3"
  },
  "language_info": {
   "codemirror_mode": {
    "name": "ipython",
    "version": 3
   },
   "file_extension": ".py",
   "mimetype": "text/x-python",
   "name": "python",
   "nbconvert_exporter": "python",
   "pygments_lexer": "ipython3",
   "version": "3.9.7"
  }
 },
 "nbformat": 4,
 "nbformat_minor": 4
}
