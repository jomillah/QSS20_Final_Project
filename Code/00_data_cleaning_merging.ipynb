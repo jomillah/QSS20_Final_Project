{
 "cells": [
  {
   "cell_type": "markdown",
   "metadata": {},
   "source": [
    "## Load packages"
   ]
  },
  {
   "cell_type": "code",
   "execution_count": 1,
   "metadata": {},
   "outputs": [],
   "source": [
    "import pandas as pd\n",
    "import numpy as np\n",
    "import random\n",
    "import re\n",
    "import os\n",
    "\n",
    "from IPython.core.interactiveshell import InteractiveShell\n",
    "InteractiveShell.ast_node_interactivity = \"all\"\n",
    "\n",
    "from scipy.stats import zscore\n",
    "\n"
   ]
  },
  {
   "cell_type": "markdown",
   "metadata": {},
   "source": [
    "## Load and inspect data "
   ]
  },
  {
   "cell_type": "code",
   "execution_count": 2,
   "metadata": {
    "scrolled": false
   },
   "outputs": [
    {
     "data": {
      "text/html": [
       "<div>\n",
       "<style scoped>\n",
       "    .dataframe tbody tr th:only-of-type {\n",
       "        vertical-align: middle;\n",
       "    }\n",
       "\n",
       "    .dataframe tbody tr th {\n",
       "        vertical-align: top;\n",
       "    }\n",
       "\n",
       "    .dataframe thead th {\n",
       "        text-align: right;\n",
       "    }\n",
       "</style>\n",
       "<table border=\"1\" class=\"dataframe\">\n",
       "  <thead>\n",
       "    <tr style=\"text-align: right;\">\n",
       "      <th></th>\n",
       "      <th>CASE_ID</th>\n",
       "      <th>CASE_PARTICIPANT_ID</th>\n",
       "      <th>RECEIVED_DATE</th>\n",
       "      <th>OFFENSE_CATEGORY</th>\n",
       "      <th>PRIMARY_CHARGE_FLAG</th>\n",
       "      <th>CHARGE_ID</th>\n",
       "      <th>CHARGE_VERSION_ID</th>\n",
       "      <th>DISPOSITION_CHARGED_OFFENSE_TITLE</th>\n",
       "      <th>CHARGE_COUNT</th>\n",
       "      <th>DISPOSITION_DATE</th>\n",
       "      <th>...</th>\n",
       "      <th>simplified_offense_derived</th>\n",
       "      <th>is_black_derived</th>\n",
       "      <th>is_hisp_derived</th>\n",
       "      <th>is_white_derived</th>\n",
       "      <th>is_other_derived</th>\n",
       "      <th>is_male_derived</th>\n",
       "      <th>age_derived</th>\n",
       "      <th>sentenceymd_derived</th>\n",
       "      <th>sentenceym_derived</th>\n",
       "      <th>judgeid_derived</th>\n",
       "    </tr>\n",
       "  </thead>\n",
       "  <tbody>\n",
       "    <tr>\n",
       "      <th>0</th>\n",
       "      <td>149765331439</td>\n",
       "      <td>175691153649</td>\n",
       "      <td>8/15/1984 12:00:00 AM</td>\n",
       "      <td>PROMIS Conversion</td>\n",
       "      <td>True</td>\n",
       "      <td>50510062193</td>\n",
       "      <td>112898098217</td>\n",
       "      <td>FIRST DEGREE MURDER</td>\n",
       "      <td>1</td>\n",
       "      <td>12/17/2014 12:00:00 AM</td>\n",
       "      <td>...</td>\n",
       "      <td>Homicide</td>\n",
       "      <td>True</td>\n",
       "      <td>False</td>\n",
       "      <td>False</td>\n",
       "      <td>False</td>\n",
       "      <td>True</td>\n",
       "      <td>27.0</td>\n",
       "      <td>2014-10-16</td>\n",
       "      <td>2014-10-01</td>\n",
       "      <td>judge_40</td>\n",
       "    </tr>\n",
       "    <tr>\n",
       "      <th>1</th>\n",
       "      <td>150065796098</td>\n",
       "      <td>162105612284</td>\n",
       "      <td>8/23/1984 12:00:00 AM</td>\n",
       "      <td>PROMIS Conversion</td>\n",
       "      <td>True</td>\n",
       "      <td>50792360681</td>\n",
       "      <td>113332130159</td>\n",
       "      <td>FIRST DEGREE MURDER</td>\n",
       "      <td>1</td>\n",
       "      <td>8/6/2014 12:00:00 AM</td>\n",
       "      <td>...</td>\n",
       "      <td>Homicide</td>\n",
       "      <td>True</td>\n",
       "      <td>False</td>\n",
       "      <td>False</td>\n",
       "      <td>False</td>\n",
       "      <td>True</td>\n",
       "      <td>30.0</td>\n",
       "      <td>2014-08-06</td>\n",
       "      <td>2014-08-01</td>\n",
       "      <td>judge_310</td>\n",
       "    </tr>\n",
       "    <tr>\n",
       "      <th>2</th>\n",
       "      <td>154954734978</td>\n",
       "      <td>225758446387</td>\n",
       "      <td>6/8/2001 12:00:00 AM</td>\n",
       "      <td>PROMIS Conversion</td>\n",
       "      <td>True</td>\n",
       "      <td>54885211141</td>\n",
       "      <td>174293345821</td>\n",
       "      <td>VIO BAIL BOND/CLASS 1</td>\n",
       "      <td>1</td>\n",
       "      <td>12/2/2013 12:00:00 AM</td>\n",
       "      <td>...</td>\n",
       "      <td>PROMIS Conversion</td>\n",
       "      <td>False</td>\n",
       "      <td>True</td>\n",
       "      <td>False</td>\n",
       "      <td>False</td>\n",
       "      <td>True</td>\n",
       "      <td>38.0</td>\n",
       "      <td>2013-12-02</td>\n",
       "      <td>2013-12-01</td>\n",
       "      <td>judge_162</td>\n",
       "    </tr>\n",
       "    <tr>\n",
       "      <th>3</th>\n",
       "      <td>155222744754</td>\n",
       "      <td>217349881776</td>\n",
       "      <td>1/31/2001 12:00:00 AM</td>\n",
       "      <td>PROMIS Conversion</td>\n",
       "      <td>True</td>\n",
       "      <td>53899906462</td>\n",
       "      <td>280120721775</td>\n",
       "      <td>POSS AMT CON SUB EXCEPT (A)/(D)</td>\n",
       "      <td>1</td>\n",
       "      <td>9/10/2012 12:00:00 AM</td>\n",
       "      <td>...</td>\n",
       "      <td>Narcotics</td>\n",
       "      <td>True</td>\n",
       "      <td>False</td>\n",
       "      <td>False</td>\n",
       "      <td>False</td>\n",
       "      <td>False</td>\n",
       "      <td>33.0</td>\n",
       "      <td>2012-09-10</td>\n",
       "      <td>2012-09-01</td>\n",
       "      <td>judge_331</td>\n",
       "    </tr>\n",
       "    <tr>\n",
       "      <th>4</th>\n",
       "      <td>155327892699</td>\n",
       "      <td>217212381455</td>\n",
       "      <td>2/6/2001 12:00:00 AM</td>\n",
       "      <td>PROMIS Conversion</td>\n",
       "      <td>True</td>\n",
       "      <td>53938518259</td>\n",
       "      <td>164877860811</td>\n",
       "      <td>DUI LIC SUSPENDED OR REVOKED (EFFECTIVE 4-13-2...</td>\n",
       "      <td>1</td>\n",
       "      <td>9/19/2014 12:00:00 AM</td>\n",
       "      <td>...</td>\n",
       "      <td>PROMIS Conversion</td>\n",
       "      <td>False</td>\n",
       "      <td>False</td>\n",
       "      <td>True</td>\n",
       "      <td>False</td>\n",
       "      <td>True</td>\n",
       "      <td>49.0</td>\n",
       "      <td>2014-09-19</td>\n",
       "      <td>2014-09-01</td>\n",
       "      <td>judge_314</td>\n",
       "    </tr>\n",
       "  </tbody>\n",
       "</table>\n",
       "<p>5 rows × 52 columns</p>\n",
       "</div>"
      ],
      "text/plain": [
       "        CASE_ID  CASE_PARTICIPANT_ID          RECEIVED_DATE  \\\n",
       "0  149765331439         175691153649  8/15/1984 12:00:00 AM   \n",
       "1  150065796098         162105612284  8/23/1984 12:00:00 AM   \n",
       "2  154954734978         225758446387   6/8/2001 12:00:00 AM   \n",
       "3  155222744754         217349881776  1/31/2001 12:00:00 AM   \n",
       "4  155327892699         217212381455   2/6/2001 12:00:00 AM   \n",
       "\n",
       "    OFFENSE_CATEGORY  PRIMARY_CHARGE_FLAG    CHARGE_ID  CHARGE_VERSION_ID  \\\n",
       "0  PROMIS Conversion                 True  50510062193       112898098217   \n",
       "1  PROMIS Conversion                 True  50792360681       113332130159   \n",
       "2  PROMIS Conversion                 True  54885211141       174293345821   \n",
       "3  PROMIS Conversion                 True  53899906462       280120721775   \n",
       "4  PROMIS Conversion                 True  53938518259       164877860811   \n",
       "\n",
       "                   DISPOSITION_CHARGED_OFFENSE_TITLE  CHARGE_COUNT  \\\n",
       "0                                FIRST DEGREE MURDER             1   \n",
       "1                                FIRST DEGREE MURDER             1   \n",
       "2                              VIO BAIL BOND/CLASS 1             1   \n",
       "3                    POSS AMT CON SUB EXCEPT (A)/(D)             1   \n",
       "4  DUI LIC SUSPENDED OR REVOKED (EFFECTIVE 4-13-2...             1   \n",
       "\n",
       "         DISPOSITION_DATE  ... simplified_offense_derived is_black_derived  \\\n",
       "0  12/17/2014 12:00:00 AM  ...                   Homicide             True   \n",
       "1    8/6/2014 12:00:00 AM  ...                   Homicide             True   \n",
       "2   12/2/2013 12:00:00 AM  ...          PROMIS Conversion            False   \n",
       "3   9/10/2012 12:00:00 AM  ...                  Narcotics             True   \n",
       "4   9/19/2014 12:00:00 AM  ...          PROMIS Conversion            False   \n",
       "\n",
       "  is_hisp_derived is_white_derived is_other_derived is_male_derived  \\\n",
       "0           False            False            False            True   \n",
       "1           False            False            False            True   \n",
       "2            True            False            False            True   \n",
       "3           False            False            False           False   \n",
       "4           False             True            False            True   \n",
       "\n",
       "  age_derived sentenceymd_derived sentenceym_derived judgeid_derived  \n",
       "0        27.0          2014-10-16         2014-10-01        judge_40  \n",
       "1        30.0          2014-08-06         2014-08-01       judge_310  \n",
       "2        38.0          2013-12-02         2013-12-01       judge_162  \n",
       "3        33.0          2012-09-10         2012-09-01       judge_331  \n",
       "4        49.0          2014-09-19         2014-09-01       judge_314  \n",
       "\n",
       "[5 rows x 52 columns]"
      ]
     },
     "execution_count": 2,
     "metadata": {},
     "output_type": "execute_result"
    },
    {
     "data": {
      "text/plain": [
       "(135165, 52)"
      ]
     },
     "execution_count": 2,
     "metadata": {},
     "output_type": "execute_result"
    },
    {
     "data": {
      "text/plain": [
       "<bound method DataFrame.info of              CASE_ID  CASE_PARTICIPANT_ID          RECEIVED_DATE  \\\n",
       "0       149765331439         175691153649  8/15/1984 12:00:00 AM   \n",
       "1       150065796098         162105612284  8/23/1984 12:00:00 AM   \n",
       "2       154954734978         225758446387   6/8/2001 12:00:00 AM   \n",
       "3       155222744754         217349881776  1/31/2001 12:00:00 AM   \n",
       "4       155327892699         217212381455   2/6/2001 12:00:00 AM   \n",
       "...              ...                  ...                    ...   \n",
       "135160  445516248775         905289187184   2/3/2021 12:00:00 AM   \n",
       "135161  445527409730         905322500577   2/4/2021 12:00:00 AM   \n",
       "135162  445587767000         905518794790   2/9/2021 12:00:00 AM   \n",
       "135163  445592613204         905533705601   2/9/2021 12:00:00 AM   \n",
       "135164  445593200623         905535215556   2/9/2021 12:00:00 AM   \n",
       "\n",
       "                                 OFFENSE_CATEGORY  PRIMARY_CHARGE_FLAG  \\\n",
       "0                               PROMIS Conversion                 True   \n",
       "1                               PROMIS Conversion                 True   \n",
       "2                               PROMIS Conversion                 True   \n",
       "3                               PROMIS Conversion                 True   \n",
       "4                               PROMIS Conversion                 True   \n",
       "...                                           ...                  ...   \n",
       "135160                              Home Invasion                 True   \n",
       "135161                           Domestic Battery                 True   \n",
       "135162  Driving With Suspended Or Revoked License                 True   \n",
       "135163  Driving With Suspended Or Revoked License                 True   \n",
       "135164  Driving With Suspended Or Revoked License                 True   \n",
       "\n",
       "           CHARGE_ID  CHARGE_VERSION_ID  \\\n",
       "0        50510062193       112898098217   \n",
       "1        50792360681       113332130159   \n",
       "2        54885211141       174293345821   \n",
       "3        53899906462       280120721775   \n",
       "4        53938518259       164877860811   \n",
       "...              ...                ...   \n",
       "135160  447867029248       836341344232   \n",
       "135161  447970697900       836537247156   \n",
       "135162  447955866546       837760215766   \n",
       "135163  447966223356       837758347354   \n",
       "135164  447966323908       837759561822   \n",
       "\n",
       "                        DISPOSITION_CHARGED_OFFENSE_TITLE  CHARGE_COUNT  \\\n",
       "0                                     FIRST DEGREE MURDER             1   \n",
       "1                                     FIRST DEGREE MURDER             1   \n",
       "2                                   VIO BAIL BOND/CLASS 1             1   \n",
       "3                         POSS AMT CON SUB EXCEPT (A)/(D)             1   \n",
       "4       DUI LIC SUSPENDED OR REVOKED (EFFECTIVE 4-13-2...             1   \n",
       "...                                                   ...           ...   \n",
       "135160                  AGGRAVATED UNLAWFUL USE OF WEAPON             1   \n",
       "135161                                   DOMESTIC BATTERY             1   \n",
       "135162                       DRIVING ON SUSPENDED LICENSE             1   \n",
       "135163                       DRIVING ON SUSPENDED LICENSE             1   \n",
       "135164                       DRIVING ON SUSPENDED LICENSE             1   \n",
       "\n",
       "              DISPOSITION_DATE  ...  \\\n",
       "0       12/17/2014 12:00:00 AM  ...   \n",
       "1         8/6/2014 12:00:00 AM  ...   \n",
       "2        12/2/2013 12:00:00 AM  ...   \n",
       "3        9/10/2012 12:00:00 AM  ...   \n",
       "4        9/19/2014 12:00:00 AM  ...   \n",
       "...                        ...  ...   \n",
       "135160   3/19/2021 12:00:00 AM  ...   \n",
       "135161   3/23/2021 12:00:00 AM  ...   \n",
       "135162   3/11/2021 12:00:00 AM  ...   \n",
       "135163   3/11/2021 12:00:00 AM  ...   \n",
       "135164   3/21/2021 12:00:00 AM  ...   \n",
       "\n",
       "                       simplified_offense_derived is_black_derived  \\\n",
       "0                                        Homicide             True   \n",
       "1                                        Homicide             True   \n",
       "2                               PROMIS Conversion            False   \n",
       "3                                       Narcotics             True   \n",
       "4                               PROMIS Conversion            False   \n",
       "...                                           ...              ...   \n",
       "135160               UUW - Unlawful Use of Weapon             True   \n",
       "135161                                    Battery             True   \n",
       "135162  Driving With Suspended Or Revoked License            False   \n",
       "135163  Driving With Suspended Or Revoked License            False   \n",
       "135164  Driving With Suspended Or Revoked License            False   \n",
       "\n",
       "       is_hisp_derived is_white_derived is_other_derived is_male_derived  \\\n",
       "0                False            False            False            True   \n",
       "1                False            False            False            True   \n",
       "2                 True            False            False            True   \n",
       "3                False            False            False           False   \n",
       "4                False             True            False            True   \n",
       "...                ...              ...              ...             ...   \n",
       "135160           False            False            False           False   \n",
       "135161           False            False            False            True   \n",
       "135162           False             True            False            True   \n",
       "135163           False             True            False            True   \n",
       "135164           False             True            False            True   \n",
       "\n",
       "       age_derived sentenceymd_derived sentenceym_derived judgeid_derived  \n",
       "0             27.0          2014-10-16         2014-10-01        judge_40  \n",
       "1             30.0          2014-08-06         2014-08-01       judge_310  \n",
       "2             38.0          2013-12-02         2013-12-01       judge_162  \n",
       "3             33.0          2012-09-10         2012-09-01       judge_331  \n",
       "4             49.0          2014-09-19         2014-09-01       judge_314  \n",
       "...            ...                 ...                ...             ...  \n",
       "135160        19.0          2021-03-19         2021-03-01         judge_8  \n",
       "135161        32.0          2021-03-23         2021-03-01       judge_294  \n",
       "135162        29.0          2021-03-11         2021-03-01        judge_99  \n",
       "135163        29.0          2021-03-11         2021-03-01        judge_99  \n",
       "135164        30.0          2021-03-11         2021-03-01        judge_99  \n",
       "\n",
       "[135165 rows x 52 columns]>"
      ]
     },
     "execution_count": 2,
     "metadata": {},
     "output_type": "execute_result"
    }
   ],
   "source": [
    "sentencing_data_cleaned = pd.read_csv(\"../Data/sentencing_cleaned.csv\", low_memory = False)\n",
    "\n",
    "sentencing_data_cleaned.head()\n",
    "sentencing_data_cleaned.shape\n",
    "sentencing_data_cleaned.info"
   ]
  },
  {
   "cell_type": "markdown",
   "metadata": {},
   "source": [
    "## Create Term Length and Sentence Length Variables"
   ]
  },
  {
   "cell_type": "code",
   "execution_count": 3,
   "metadata": {},
   "outputs": [
    {
     "data": {
      "text/plain": [
       "array(['Illinois Department of Corrections',\n",
       "       'Cook County Department of Corrections'], dtype=object)"
      ]
     },
     "execution_count": 3,
     "metadata": {},
     "output_type": "execute_result"
    },
    {
     "data": {
      "text/html": [
       "<div>\n",
       "<style scoped>\n",
       "    .dataframe tbody tr th:only-of-type {\n",
       "        vertical-align: middle;\n",
       "    }\n",
       "\n",
       "    .dataframe tbody tr th {\n",
       "        vertical-align: top;\n",
       "    }\n",
       "\n",
       "    .dataframe thead th {\n",
       "        text-align: right;\n",
       "    }\n",
       "</style>\n",
       "<table border=\"1\" class=\"dataframe\">\n",
       "  <thead>\n",
       "    <tr style=\"text-align: right;\">\n",
       "      <th></th>\n",
       "      <th>COMMITMENT_UNIT</th>\n",
       "      <th>COMMITMENT_TERM</th>\n",
       "    </tr>\n",
       "  </thead>\n",
       "  <tbody>\n",
       "  </tbody>\n",
       "</table>\n",
       "</div>"
      ],
      "text/plain": [
       "Empty DataFrame\n",
       "Columns: [COMMITMENT_UNIT, COMMITMENT_TERM]\n",
       "Index: []"
      ]
     },
     "execution_count": 3,
     "metadata": {},
     "output_type": "execute_result"
    },
    {
     "name": "stderr",
     "output_type": "stream",
     "text": [
      "/var/folders/gq/d2mhy31n1yz2c7gxn_h174t00000gn/T/ipykernel_11545/1603542082.py:16: SettingWithCopyWarning: \n",
      "A value is trying to be set on a copy of a slice from a DataFrame.\n",
      "Try using .loc[row_indexer,col_indexer] = value instead\n",
      "\n",
      "See the caveats in the documentation: https://pandas.pydata.org/pandas-docs/stable/user_guide/indexing.html#returning-a-view-versus-a-copy\n",
      "  sentencing_df[\"COMMITMENT_TERM\"] = sentencing_df[\"COMMITMENT_TERM\"].astype(float)\n",
      "/var/folders/gq/d2mhy31n1yz2c7gxn_h174t00000gn/T/ipykernel_11545/1603542082.py:19: SettingWithCopyWarning: \n",
      "A value is trying to be set on a copy of a slice from a DataFrame.\n",
      "Try using .loc[row_indexer,col_indexer] = value instead\n",
      "\n",
      "See the caveats in the documentation: https://pandas.pydata.org/pandas-docs/stable/user_guide/indexing.html#returning-a-view-versus-a-copy\n",
      "  sentencing_df[\"sentence_length\"] = sentencing_df.apply(lambda row: row[\"COMMITMENT_TERM\"] if row[\"COMMITMENT_UNIT\"] == \"Year(s)\" else\n"
     ]
    }
   ],
   "source": [
    "## Creating Term Length Variable\n",
    "\n",
    "## subsetting to just units of days, years, months, and life sentences (Note: we are equating one life sentence to be 100 years)\n",
    "\n",
    "sentencing_df = sentencing_data_cleaned[sentencing_data_cleaned[\"COMMITMENT_UNIT\"].isin([\"Year(s)\", \"Natural Life\", \"Days\", \"Months\"]) & sentencing_data_cleaned[\"COMMITMENT_TYPE\"].isin([\"Illinois Department of Corrections\", \"Cook County Department of Corrections\"])]\n",
    "\n",
    "\n",
    "sentencing_df[\"COMMITMENT_TYPE\"].unique()\n",
    "sentencing_df[[\"COMMITMENT_UNIT\", \"COMMITMENT_TERM\"]][sentencing_df[\"COMMITMENT_TYPE\"] == \"Cook County Boot Camp\"]\n",
    "\n",
    "\n",
    "\n",
    "\n",
    "## Creating sentence length variable (in years)\n",
    "\n",
    "sentencing_df[\"COMMITMENT_TERM\"] = sentencing_df[\"COMMITMENT_TERM\"].astype(float)\n",
    "\n",
    "\n",
    "sentencing_df[\"sentence_length\"] = sentencing_df.apply(lambda row: row[\"COMMITMENT_TERM\"] if row[\"COMMITMENT_UNIT\"] == \"Year(s)\" else  \n",
    "                                                       row[\"COMMITMENT_TERM\"] * 100 if row[\"COMMITMENT_UNIT\"] == \"Natural Life\" else\n",
    "                                                       row[\"COMMITMENT_TERM\"] / 365 if row[\"COMMITMENT_UNIT\"] == \"Days\" else \n",
    "                                                       row[\"COMMITMENT_TERM\"] / 12 if row[\"COMMITMENT_UNIT\"] == \"Months\" else None, axis = 1)\n"
   ]
  },
  {
   "cell_type": "markdown",
   "metadata": {},
   "source": [
    "## Make sentencing unit standardizable by creating Z score "
   ]
  },
  {
   "cell_type": "code",
   "execution_count": 4,
   "metadata": {},
   "outputs": [
    {
     "name": "stderr",
     "output_type": "stream",
     "text": [
      "/var/folders/gq/d2mhy31n1yz2c7gxn_h174t00000gn/T/ipykernel_11545/4193320962.py:5: SettingWithCopyWarning: \n",
      "A value is trying to be set on a copy of a slice from a DataFrame.\n",
      "Try using .loc[row_indexer,col_indexer] = value instead\n",
      "\n",
      "See the caveats in the documentation: https://pandas.pydata.org/pandas-docs/stable/user_guide/indexing.html#returning-a-view-versus-a-copy\n",
      "  sentencing_df[\"sentence_length_zscore\"] = sentencing_df.groupby(\"DISPOSITION_CHARGED_OFFENSE_TITLE\")[\"sentence_length\"].transform(zscore)\n"
     ]
    },
    {
     "data": {
      "text/plain": [
       "4.246430721678059e-15"
      ]
     },
     "execution_count": 4,
     "metadata": {},
     "output_type": "execute_result"
    }
   ],
   "source": [
    "## Need to convert sentencing unit to something standardizable across crimes \n",
    "## To do this will use a z score (how many standard deviations something is from the mean) grouped by the exact same charge type\n",
    "\n",
    "\n",
    "sentencing_df[\"sentence_length_zscore\"] = sentencing_df.groupby(\"DISPOSITION_CHARGED_OFFENSE_TITLE\")[\"sentence_length\"].transform(zscore)\n",
    "\n",
    "## looking at z score stats just quickly\n",
    "\n",
    "np.mean(sentencing_df[\"sentence_length_zscore\"])\n",
    "\n",
    "## 0 z score would mean perfectly average or neutral sentence length for the crime\n"
   ]
  },
  {
   "cell_type": "markdown",
   "metadata": {},
   "source": [
    "## Export data as csv file to Data folder "
   ]
  },
  {
   "cell_type": "code",
   "execution_count": 14,
   "metadata": {},
   "outputs": [],
   "source": [
    "sentencing_df.to_csv(r'..Data\\sentencing_data_withZ.csv')"
   ]
  },
  {
   "cell_type": "code",
   "execution_count": 6,
   "metadata": {},
   "outputs": [
    {
     "data": {
      "text/plain": [
       "Index(['CASE_ID', 'CASE_PARTICIPANT_ID', 'RECEIVED_DATE', 'OFFENSE_CATEGORY',\n",
       "       'PRIMARY_CHARGE_FLAG', 'CHARGE_ID', 'CHARGE_VERSION_ID',\n",
       "       'DISPOSITION_CHARGED_OFFENSE_TITLE', 'CHARGE_COUNT', 'DISPOSITION_DATE',\n",
       "       'DISPOSITION_CHARGED_CHAPTER', 'DISPOSITION_CHARGED_ACT',\n",
       "       'DISPOSITION_CHARGED_SECTION', 'DISPOSITION_CHARGED_CLASS',\n",
       "       'DISPOSITION_CHARGED_AOIC', 'CHARGE_DISPOSITION',\n",
       "       'CHARGE_DISPOSITION_REASON', 'SENTENCE_JUDGE', 'SENTENCE_COURT_NAME',\n",
       "       'SENTENCE_COURT_FACILITY', 'SENTENCE_PHASE', 'SENTENCE_DATE',\n",
       "       'SENTENCE_TYPE', 'CURRENT_SENTENCE_FLAG', 'COMMITMENT_TYPE',\n",
       "       'COMMITMENT_TERM', 'COMMITMENT_UNIT', 'LENGTH_OF_CASE_in_Days',\n",
       "       'AGE_AT_INCIDENT', 'RACE', 'GENDER', 'INCIDENT_CITY',\n",
       "       'INCIDENT_BEGIN_DATE', 'INCIDENT_END_DATE', 'LAW_ENFORCEMENT_AGENCY',\n",
       "       'LAW_ENFORCEMENT_UNIT', 'ARREST_DATE', 'FELONY_REVIEW_DATE',\n",
       "       'FELONY_REVIEW_RESULT', 'ARRAIGNMENT_DATE', 'UPDATED_OFFENSE_CATEGORY',\n",
       "       'is_changed_offense', 'simplified_offense_derived', 'is_black_derived',\n",
       "       'is_hisp_derived', 'is_white_derived', 'is_other_derived',\n",
       "       'is_male_derived', 'age_derived', 'sentenceymd_derived',\n",
       "       'sentenceym_derived', 'judgeid_derived', 'sentence_length',\n",
       "       'sentence_length_zscore'],\n",
       "      dtype='object')"
      ]
     },
     "execution_count": 6,
     "metadata": {},
     "output_type": "execute_result"
    }
   ],
   "source": [
    "## Investigating which judges have the highest and lowest mean z scores \n",
    "\n",
    "## About 200 judges\n",
    "\n",
    "judges = sentencing_df.groupby(\"SENTENCE_JUDGE\")[\"sentence_length_zscore\"].apply(np.mean).sort_values(ascending = False)\n",
    "\n",
    "## list of top 50% and bottom 50% judges in terms of sentencing severity\n",
    "\n",
    "max_judges = judges[:123].index\n",
    "\n",
    "min_judges = judges[124:].index\n",
    "\n",
    "max_subset = sentencing_df[sentencing_df[\"SENTENCE_JUDGE\"].isin(max_judges)]\n",
    "\n",
    "min_subset = sentencing_df[sentencing_df[\"SENTENCE_JUDGE\"].isin(min_judges)]\n",
    "\n",
    "\n",
    "min_subset.columns\n",
    "\n"
   ]
  },
  {
   "cell_type": "code",
   "execution_count": 7,
   "metadata": {},
   "outputs": [
    {
     "data": {
      "text/plain": [
       "False    51334\n",
       "True      6430\n",
       "Name: is_white_derived, dtype: int64"
      ]
     },
     "execution_count": 7,
     "metadata": {},
     "output_type": "execute_result"
    },
    {
     "data": {
      "text/plain": [
       "False    11902\n",
       "True      2231\n",
       "Name: is_white_derived, dtype: int64"
      ]
     },
     "execution_count": 7,
     "metadata": {},
     "output_type": "execute_result"
    },
    {
     "data": {
      "text/plain": [
       "57764"
      ]
     },
     "execution_count": 7,
     "metadata": {},
     "output_type": "execute_result"
    },
    {
     "data": {
      "text/plain": [
       "14133"
      ]
     },
     "execution_count": 7,
     "metadata": {},
     "output_type": "execute_result"
    },
    {
     "data": {
      "text/plain": [
       "SENTENCE_COURT_FACILITY\n",
       "26TH Street                     0.030753\n",
       "51st & Wentworth (Area 1)       0.594640\n",
       "727 E. 111th Street (Area 2)   -0.701573\n",
       "Belmont & Western (Area 3)     -0.450302\n",
       "Bridgeview Courthouse          -0.055841\n",
       "DV Courthouse                  -0.204305\n",
       "Grand & Central (Area 5)       -0.477308\n",
       "Harrison & Kedzie (Area 4)     -0.039666\n",
       "Markham Courthouse             -0.112688\n",
       "Maywood Courthouse             -0.036334\n",
       "PROMIS                         -0.126594\n",
       "Rolling Meadows Courthouse     -0.012579\n",
       "Skokie Courthouse              -0.007978\n",
       "Name: sentence_length_zscore, dtype: float64"
      ]
     },
     "execution_count": 7,
     "metadata": {},
     "output_type": "execute_result"
    },
    {
     "data": {
      "text/plain": [
       "INCIDENT_CITY\n",
       "Algonquin           -0.053951\n",
       "Alsip                0.050445\n",
       "Arlington Heights    0.074281\n",
       "Arlington Hts        0.270067\n",
       "Barrington           0.546501\n",
       "                       ...   \n",
       "Wilmette            -0.041509\n",
       "Winnetka             0.121823\n",
       "Wood Dale           -0.648886\n",
       "Woodstock           -0.116232\n",
       "Worth               -0.248008\n",
       "Name: sentence_length_zscore, Length: 195, dtype: float64"
      ]
     },
     "execution_count": 7,
     "metadata": {},
     "output_type": "execute_result"
    },
    {
     "data": {
      "text/plain": [
       "AGE_AT_INCIDENT\n",
       "137.0   -0.824173\n",
       "82.0    -0.805030\n",
       "76.0    -0.787398\n",
       "114.0   -0.710114\n",
       "77.0    -0.486377\n",
       "           ...   \n",
       "63.0     0.151033\n",
       "41.0     0.151580\n",
       "60.0     0.182536\n",
       "70.0     0.263063\n",
       "78.0     1.400792\n",
       "Name: sentence_length_zscore, Length: 68, dtype: float64"
      ]
     },
     "execution_count": 7,
     "metadata": {},
     "output_type": "execute_result"
    },
    {
     "data": {
      "text/plain": [
       "GENDER\n",
       "Female                       -0.148537\n",
       "Male                          0.011291\n",
       "Male name, no gender given   -0.332668\n",
       "Unknown                       0.225404\n",
       "Unknown Gender               -0.366844\n",
       "Name: sentence_length_zscore, dtype: float64"
      ]
     },
     "execution_count": 7,
     "metadata": {},
     "output_type": "execute_result"
    },
    {
     "data": {
      "text/plain": [
       "LAW_ENFORCEMENT_AGENCY\n",
       "ALSIP PD                                   0.088349\n",
       "AMTRAK NATIONAL RAILROAD PASSENGER CORP   -0.154000\n",
       "ARLINGTON HEIGHTS PD                       0.067842\n",
       "ARLINGTON HEIGHTS POLICE DEPARTMENT       -0.390060\n",
       "BARRINGTON HILLS PD                       -0.164716\n",
       "                                             ...   \n",
       "WILLOW SPRINGS PD                         -0.290648\n",
       "WILMETTE PD                               -0.036643\n",
       "WILMETTE POLICE DEPARTMENT                 0.167382\n",
       "WINNETKA PD                                0.041495\n",
       "WORTH PD                                  -0.218557\n",
       "Name: sentence_length_zscore, Length: 375, dtype: float64"
      ]
     },
     "execution_count": 7,
     "metadata": {},
     "output_type": "execute_result"
    },
    {
     "name": "stderr",
     "output_type": "stream",
     "text": [
      "/var/folders/gq/d2mhy31n1yz2c7gxn_h174t00000gn/T/ipykernel_11545/174654646.py:51: SettingWithCopyWarning: \n",
      "A value is trying to be set on a copy of a slice from a DataFrame.\n",
      "Try using .loc[row_indexer,col_indexer] = value instead\n",
      "\n",
      "See the caveats in the documentation: https://pandas.pydata.org/pandas-docs/stable/user_guide/indexing.html#returning-a-view-versus-a-copy\n",
      "  sentencing_df['ARREST_DATE'] = pd.to_datetime(sentencing_df['ARREST_DATE'])\n"
     ]
    },
    {
     "data": {
      "text/plain": [
       "[<matplotlib.lines.Line2D at 0x7fe3581f7ee0>]"
      ]
     },
     "execution_count": 7,
     "metadata": {},
     "output_type": "execute_result"
    },
    {
     "data": {
      "text/plain": [
       "SENTENCE_TYPE\n",
       "Probation                               -0.540041\n",
       "Probation Terminated Instanter          -0.475841\n",
       "Jail                                    -0.280403\n",
       "Inpatient Mental Health Services        -0.258566\n",
       "Probation Terminated Unsatisfactorily   -0.189491\n",
       "2nd Chance Probation                    -0.181474\n",
       "Cook County Boot Camp                   -0.177266\n",
       "Conditional Discharge                    0.012814\n",
       "Prison                                   0.024475\n",
       "Supervision                              0.421073\n",
       "Conditional Release                      0.486818\n",
       "Probation Terminated Satisfactorily      1.128597\n",
       "Death                                    1.610313\n",
       "Name: sentence_length_zscore, dtype: float64"
      ]
     },
     "execution_count": 7,
     "metadata": {},
     "output_type": "execute_result"
    },
    {
     "data": {
      "image/png": "[encoded data removed]",
      "text/plain": [
       "<Figure size 640x480 with 1 Axes>"
      ]
     },
     "metadata": {},
     "output_type": "display_data"
    }
   ],
   "source": [
    "## Investigating what to actually try to show \n",
    "\n",
    "max_subset[\"is_white_derived\"].value_counts()\n",
    "min_subset[\"is_white_derived\"].value_counts()\n",
    "\n",
    "## Race \n",
    "\n",
    "## min_subset.groupby([\"is_white_derived\", \"simplified_offense_derived\"])[\"sentence_length_zscore\"].apply(np.mean)\n",
    "## max_subset.groupby([\"is_white_derived\", \"simplified_offense_derived\"])[\"sentence_length_zscore\"].apply(np.mean)\n",
    "\n",
    "## number of cases \n",
    "\n",
    "max_subset[\"CASE_ID\"].nunique()\n",
    "min_subset[\"CASE_ID\"].nunique()\n",
    "\n",
    "\n",
    "## Location \n",
    "\n",
    "## court location \n",
    "\n",
    "sentencing_df.groupby(\"SENTENCE_COURT_FACILITY\")[\"sentence_length_zscore\"].apply(np.mean)\n",
    "\n",
    "\n",
    "## crime location \n",
    "\n",
    "sentencing_df.groupby(\"INCIDENT_CITY\")[\"sentence_length_zscore\"].apply(np.mean)\n",
    "\n",
    "\n",
    "## Case Length\n",
    "\n",
    "import matplotlib.pyplot as plt\n",
    "\n",
    "## plt.scatter(sentencing_df[\"sentence_length_zscore\"], sentencing_df[\"LENGTH_OF_CASE_in_Days\"])\n",
    "\n",
    "## doesn't' seem like it matters tbh\n",
    "\n",
    "## Age\n",
    "\n",
    "sentencing_df.groupby(\"AGE_AT_INCIDENT\")[\"sentence_length_zscore\"].apply(np.mean).sort_values()\n",
    "\n",
    "## Gender\n",
    "\n",
    "sentencing_df.groupby(\"GENDER\")[\"sentence_length_zscore\"].apply(np.mean)\n",
    "\n",
    "## Law enforcement agency \n",
    "\n",
    "sentencing_df.groupby(\"LAW_ENFORCEMENT_AGENCY\")[\"sentence_length_zscore\"].apply(np.mean)\n",
    " \n",
    "## Severity over time \n",
    "\n",
    "sentencing_df['ARREST_DATE'] = pd.to_datetime(sentencing_df['ARREST_DATE'])\n",
    "\n",
    "plt.plot(sentencing_df[\"ARREST_DATE\"], sentencing_df[\"sentence_length_zscore\"])\n",
    "\n",
    "\n",
    "## Sentence type (be wary of this)\n",
    "\n",
    "sentencing_df.groupby(\"SENTENCE_TYPE\")[\"sentence_length_zscore\"].apply(np.mean).sort_values()\n",
    "\n",
    "##  "
   ]
  },
  {
   "cell_type": "code",
   "execution_count": 8,
   "metadata": {},
   "outputs": [
    {
     "data": {
      "text/plain": [
       "0        judge_1\n",
       "1       judge_10\n",
       "2      judge_100\n",
       "3      judge_101\n",
       "4      judge_102\n",
       "         ...    \n",
       "223     judge_93\n",
       "224     judge_94\n",
       "225     judge_95\n",
       "226     judge_98\n",
       "227     judge_99\n",
       "Name: judgeid_derived, Length: 228, dtype: object"
      ]
     },
     "execution_count": 8,
     "metadata": {},
     "output_type": "execute_result"
    },
    {
     "data": {
      "text/html": [
       "<div>\n",
       "<style scoped>\n",
       "    .dataframe tbody tr th:only-of-type {\n",
       "        vertical-align: middle;\n",
       "    }\n",
       "\n",
       "    .dataframe tbody tr th {\n",
       "        vertical-align: top;\n",
       "    }\n",
       "\n",
       "    .dataframe thead th {\n",
       "        text-align: right;\n",
       "    }\n",
       "</style>\n",
       "<table border=\"1\" class=\"dataframe\">\n",
       "  <thead>\n",
       "    <tr style=\"text-align: right;\">\n",
       "      <th></th>\n",
       "      <th>judgeid_derived</th>\n",
       "      <th>judges_total_cases</th>\n",
       "    </tr>\n",
       "  </thead>\n",
       "  <tbody>\n",
       "    <tr>\n",
       "      <th>0</th>\n",
       "      <td>judge_1</td>\n",
       "      <td>69</td>\n",
       "    </tr>\n",
       "    <tr>\n",
       "      <th>1</th>\n",
       "      <td>judge_10</td>\n",
       "      <td>408</td>\n",
       "    </tr>\n",
       "    <tr>\n",
       "      <th>2</th>\n",
       "      <td>judge_100</td>\n",
       "      <td>686</td>\n",
       "    </tr>\n",
       "    <tr>\n",
       "      <th>3</th>\n",
       "      <td>judge_101</td>\n",
       "      <td>2</td>\n",
       "    </tr>\n",
       "    <tr>\n",
       "      <th>4</th>\n",
       "      <td>judge_102</td>\n",
       "      <td>4</td>\n",
       "    </tr>\n",
       "    <tr>\n",
       "      <th>...</th>\n",
       "      <td>...</td>\n",
       "      <td>...</td>\n",
       "    </tr>\n",
       "    <tr>\n",
       "      <th>223</th>\n",
       "      <td>judge_93</td>\n",
       "      <td>1</td>\n",
       "    </tr>\n",
       "    <tr>\n",
       "      <th>224</th>\n",
       "      <td>judge_94</td>\n",
       "      <td>1</td>\n",
       "    </tr>\n",
       "    <tr>\n",
       "      <th>225</th>\n",
       "      <td>judge_95</td>\n",
       "      <td>1</td>\n",
       "    </tr>\n",
       "    <tr>\n",
       "      <th>226</th>\n",
       "      <td>judge_98</td>\n",
       "      <td>7</td>\n",
       "    </tr>\n",
       "    <tr>\n",
       "      <th>227</th>\n",
       "      <td>judge_99</td>\n",
       "      <td>24</td>\n",
       "    </tr>\n",
       "  </tbody>\n",
       "</table>\n",
       "<p>228 rows × 2 columns</p>\n",
       "</div>"
      ],
      "text/plain": [
       "    judgeid_derived  judges_total_cases\n",
       "0           judge_1                  69\n",
       "1          judge_10                 408\n",
       "2         judge_100                 686\n",
       "3         judge_101                   2\n",
       "4         judge_102                   4\n",
       "..              ...                 ...\n",
       "223        judge_93                   1\n",
       "224        judge_94                   1\n",
       "225        judge_95                   1\n",
       "226        judge_98                   7\n",
       "227        judge_99                  24\n",
       "\n",
       "[228 rows x 2 columns]"
      ]
     },
     "execution_count": 8,
     "metadata": {},
     "output_type": "execute_result"
    }
   ],
   "source": [
    "## Investigate impact number of cases has on judges mean severity scores \n",
    "\n",
    "#determine the number of cases for each judge \n",
    "judges_total_cases_df=sentencing_df.groupby('judgeid_derived').CASE_ID.count().reset_index().rename(columns={'CASE_ID': 'judges_total_cases'})\n",
    "judges_total_cases_df.judgeid_derived.sort_values()\n",
    "judges_total_cases_df\n",
    "\n",
    "#merge with sentencing_df to add column judges_total_cases\n",
    "sentencing_df = pd.merge(sentencing_df, judges_total_cases_df, on='judgeid_derived')\n",
    "\n",
    "#explore the correlation visually \n"
   ]
  },
  {
   "cell_type": "code",
   "execution_count": 9,
   "metadata": {},
   "outputs": [],
   "source": [
    "## Show that race, gender, age doesn't really actually get impacted by judges \n",
    "#(race not correlated with sentence severity score and max and min judges didn't really see more or less white defendants)\n",
    "\n"
   ]
  },
  {
   "cell_type": "code",
   "execution_count": 10,
   "metadata": {},
   "outputs": [
    {
     "data": {
      "text/plain": [
       "SENTENCE_COURT_FACILITY\n",
       "26TH Street                     0.030753\n",
       "51st & Wentworth (Area 1)       0.594640\n",
       "727 E. 111th Street (Area 2)   -0.701573\n",
       "Belmont & Western (Area 3)     -0.450302\n",
       "Bridgeview Courthouse          -0.055841\n",
       "DV Courthouse                  -0.204305\n",
       "Grand & Central (Area 5)       -0.477308\n",
       "Harrison & Kedzie (Area 4)     -0.039666\n",
       "Markham Courthouse             -0.112688\n",
       "Maywood Courthouse             -0.036334\n",
       "PROMIS                         -0.126594\n",
       "Rolling Meadows Courthouse     -0.012579\n",
       "Skokie Courthouse              -0.007978\n",
       "Name: sentence_length_zscore, dtype: float64"
      ]
     },
     "execution_count": 10,
     "metadata": {},
     "output_type": "execute_result"
    }
   ],
   "source": [
    "## location (both of court house and where the incident took place) (Samo low key if you could make a map of these cities with socioeconomic data and then overlay this stuff could be sickk)\n",
    "\n",
    "#location of court house \n",
    "\n",
    "sentencing_df.groupby(\"SENTENCE_COURT_FACILITY\")[\"sentence_length_zscore\"].apply(np.mean)\n",
    "\n"
   ]
  },
  {
   "cell_type": "code",
   "execution_count": 11,
   "metadata": {},
   "outputs": [
    {
     "data": {
      "text/plain": [
       "LAW_ENFORCEMENT_AGENCY\n",
       "ALSIP PD                                   0.088349\n",
       "AMTRAK NATIONAL RAILROAD PASSENGER CORP   -0.154000\n",
       "ARLINGTON HEIGHTS PD                       0.067842\n",
       "ARLINGTON HEIGHTS POLICE DEPARTMENT       -0.390060\n",
       "BARRINGTON HILLS PD                       -0.164716\n",
       "                                             ...   \n",
       "WILLOW SPRINGS PD                         -0.290648\n",
       "WILMETTE PD                               -0.036643\n",
       "WILMETTE POLICE DEPARTMENT                 0.167382\n",
       "WINNETKA PD                                0.041495\n",
       "WORTH PD                                  -0.218557\n",
       "Name: sentence_length_zscore, Length: 375, dtype: float64"
      ]
     },
     "execution_count": 11,
     "metadata": {},
     "output_type": "execute_result"
    }
   ],
   "source": [
    "## Law enforcement agency - this could be grouped into the location part too, or could be state vs local police etc but looks like theres something here\n",
    "sentencing_df.groupby(\"LAW_ENFORCEMENT_AGENCY\")[\"sentence_length_zscore\"].apply(np.mean)\n",
    "\n"
   ]
  },
  {
   "cell_type": "code",
   "execution_count": 12,
   "metadata": {},
   "outputs": [],
   "source": [
    "## Severity over time (this low key looks really interesting too, included a graph above that kinda shows it but need to explore a lot more closely)"
   ]
  },
  {
   "cell_type": "code",
   "execution_count": 13,
   "metadata": {},
   "outputs": [
    {
     "data": {
      "text/plain": [
       "SENTENCE_TYPE\n",
       "Probation                               -0.540041\n",
       "Probation Terminated Instanter          -0.475841\n",
       "Jail                                    -0.280403\n",
       "Inpatient Mental Health Services        -0.258566\n",
       "Probation Terminated Unsatisfactorily   -0.189491\n",
       "2nd Chance Probation                    -0.181474\n",
       "Cook County Boot Camp                   -0.177266\n",
       "Conditional Discharge                    0.012814\n",
       "Prison                                   0.024475\n",
       "Supervision                              0.421073\n",
       "Conditional Release                      0.486818\n",
       "Probation Terminated Satisfactorily      1.128597\n",
       "Death                                    1.610313\n",
       "Name: sentence_length_zscore, dtype: float64"
      ]
     },
     "execution_count": 13,
     "metadata": {},
     "output_type": "execute_result"
    }
   ],
   "source": [
    "## Sentence type could also be interesting \n",
    "sentencing_df.groupby(\"SENTENCE_TYPE\")[\"sentence_length_zscore\"].apply(np.mean).sort_values()\n"
   ]
  },
  {
   "cell_type": "code",
   "execution_count": null,
   "metadata": {},
   "outputs": [],
   "source": []
  }
 ],
 "metadata": {
  "kernelspec": {
   "display_name": "Python 3 (ipykernel)",
   "language": "python",
   "name": "python3"
  },
  "language_info": {
   "codemirror_mode": {
    "name": "ipython",
    "version": 3
   },
   "file_extension": ".py",
   "mimetype": "text/x-python",
   "name": "python",
   "nbconvert_exporter": "python",
   "pygments_lexer": "ipython3",
   "version": "3.9.13"
  }
 },
 "nbformat": 4,
 "nbformat_minor": 4
}
