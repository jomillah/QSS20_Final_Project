{
 "cells": [
  {
   "cell_type": "markdown",
   "id": "1f4d6807",
   "metadata": {},
   "source": [
    "## Load packages"
   ]
  },
  {
   "cell_type": "code",
   "execution_count": 5,
   "id": "1bde77f2",
   "metadata": {},
   "outputs": [],
   "source": [
    "import pandas as pd\n",
    "import numpy as np\n",
    "import random\n",
    "import re\n",
    "import os\n",
    "import matplotlib.pyplot as plt\n",
    "\n",
    "from IPython.core.interactiveshell import InteractiveShell\n",
    "InteractiveShell.ast_node_interactivity = \"all\""
   ]
  },
  {
   "cell_type": "markdown",
   "id": "97b18821",
   "metadata": {},
   "source": [
    "## Load and inspect Data"
   ]
  },
  {
   "cell_type": "code",
   "execution_count": 6,
   "id": "fe48ec59",
   "metadata": {},
   "outputs": [],
   "source": [
    "sentencing_df = pd.read_csv(\"../Data/sentencing_data_withZ.csv\", low_memory = False)"
   ]
  },
  {
   "cell_type": "code",
   "execution_count": 7,
   "id": "a300911b",
   "metadata": {},
   "outputs": [
    {
     "data": {
      "text/html": [
       "<div>\n",
       "<style scoped>\n",
       "    .dataframe tbody tr th:only-of-type {\n",
       "        vertical-align: middle;\n",
       "    }\n",
       "\n",
       "    .dataframe tbody tr th {\n",
       "        vertical-align: top;\n",
       "    }\n",
       "\n",
       "    .dataframe thead th {\n",
       "        text-align: right;\n",
       "    }\n",
       "</style>\n",
       "<table border=\"1\" class=\"dataframe\">\n",
       "  <thead>\n",
       "    <tr style=\"text-align: right;\">\n",
       "      <th></th>\n",
       "      <th>Unnamed: 0</th>\n",
       "      <th>CASE_ID</th>\n",
       "      <th>CASE_PARTICIPANT_ID</th>\n",
       "      <th>RECEIVED_DATE</th>\n",
       "      <th>OFFENSE_CATEGORY</th>\n",
       "      <th>PRIMARY_CHARGE_FLAG</th>\n",
       "      <th>CHARGE_ID</th>\n",
       "      <th>CHARGE_VERSION_ID</th>\n",
       "      <th>DISPOSITION_CHARGED_OFFENSE_TITLE</th>\n",
       "      <th>CHARGE_COUNT</th>\n",
       "      <th>...</th>\n",
       "      <th>is_white_derived</th>\n",
       "      <th>is_other_derived</th>\n",
       "      <th>is_male_derived</th>\n",
       "      <th>age_derived</th>\n",
       "      <th>sentenceymd_derived</th>\n",
       "      <th>sentenceym_derived</th>\n",
       "      <th>judgeid_derived</th>\n",
       "      <th>sentence_length</th>\n",
       "      <th>sentence_length_zscore</th>\n",
       "      <th>judges_total_cases</th>\n",
       "    </tr>\n",
       "  </thead>\n",
       "  <tbody>\n",
       "    <tr>\n",
       "      <th>0</th>\n",
       "      <td>0</td>\n",
       "      <td>149765331439</td>\n",
       "      <td>175691153649</td>\n",
       "      <td>8/15/1984 12:00:00 AM</td>\n",
       "      <td>PROMIS Conversion</td>\n",
       "      <td>True</td>\n",
       "      <td>50510062193</td>\n",
       "      <td>112898098217</td>\n",
       "      <td>FIRST DEGREE MURDER</td>\n",
       "      <td>1</td>\n",
       "      <td>...</td>\n",
       "      <td>False</td>\n",
       "      <td>False</td>\n",
       "      <td>True</td>\n",
       "      <td>27.0</td>\n",
       "      <td>2014-10-16</td>\n",
       "      <td>2014-10-01</td>\n",
       "      <td>judge_40</td>\n",
       "      <td>62.0</td>\n",
       "      <td>-0.014996</td>\n",
       "      <td>769</td>\n",
       "    </tr>\n",
       "    <tr>\n",
       "      <th>1</th>\n",
       "      <td>1</td>\n",
       "      <td>163734000970</td>\n",
       "      <td>119572148070</td>\n",
       "      <td>5/27/2002 12:00:00 AM</td>\n",
       "      <td>PROMIS Conversion</td>\n",
       "      <td>True</td>\n",
       "      <td>60663908958</td>\n",
       "      <td>740041557966</td>\n",
       "      <td>POSSESSION OF A CONTROLLED SUBSTANCE</td>\n",
       "      <td>1</td>\n",
       "      <td>...</td>\n",
       "      <td>False</td>\n",
       "      <td>False</td>\n",
       "      <td>True</td>\n",
       "      <td>26.0</td>\n",
       "      <td>2015-11-09</td>\n",
       "      <td>2015-11-01</td>\n",
       "      <td>judge_40</td>\n",
       "      <td>1.0</td>\n",
       "      <td>-0.258566</td>\n",
       "      <td>769</td>\n",
       "    </tr>\n",
       "    <tr>\n",
       "      <th>2</th>\n",
       "      <td>2</td>\n",
       "      <td>182050890480</td>\n",
       "      <td>179762088011</td>\n",
       "      <td>8/23/2004 12:00:00 AM</td>\n",
       "      <td>PROMIS Conversion</td>\n",
       "      <td>True</td>\n",
       "      <td>69728430461</td>\n",
       "      <td>658529032588</td>\n",
       "      <td>AGGRAVATED BATTERY</td>\n",
       "      <td>1</td>\n",
       "      <td>...</td>\n",
       "      <td>False</td>\n",
       "      <td>False</td>\n",
       "      <td>True</td>\n",
       "      <td>35.0</td>\n",
       "      <td>2012-02-08</td>\n",
       "      <td>2012-02-01</td>\n",
       "      <td>judge_40</td>\n",
       "      <td>10.0</td>\n",
       "      <td>2.181622</td>\n",
       "      <td>769</td>\n",
       "    </tr>\n",
       "    <tr>\n",
       "      <th>3</th>\n",
       "      <td>3</td>\n",
       "      <td>188763617530</td>\n",
       "      <td>185554465998</td>\n",
       "      <td>8/9/2005 12:00:00 AM</td>\n",
       "      <td>PROMIS Conversion</td>\n",
       "      <td>True</td>\n",
       "      <td>77575875953</td>\n",
       "      <td>740046322415</td>\n",
       "      <td>VIOLATION OF BAIL BOND</td>\n",
       "      <td>1</td>\n",
       "      <td>...</td>\n",
       "      <td>False</td>\n",
       "      <td>False</td>\n",
       "      <td>True</td>\n",
       "      <td>NaN</td>\n",
       "      <td>2015-11-09</td>\n",
       "      <td>2015-11-01</td>\n",
       "      <td>judge_40</td>\n",
       "      <td>2.0</td>\n",
       "      <td>-0.439882</td>\n",
       "      <td>769</td>\n",
       "    </tr>\n",
       "    <tr>\n",
       "      <th>4</th>\n",
       "      <td>4</td>\n",
       "      <td>195256796846</td>\n",
       "      <td>190097450194</td>\n",
       "      <td>2/21/2005 12:00:00 AM</td>\n",
       "      <td>PROMIS Conversion</td>\n",
       "      <td>True</td>\n",
       "      <td>84905279838</td>\n",
       "      <td>212776826308</td>\n",
       "      <td>ATTEMPT FIRST DEGREE MURDER</td>\n",
       "      <td>1</td>\n",
       "      <td>...</td>\n",
       "      <td>False</td>\n",
       "      <td>False</td>\n",
       "      <td>True</td>\n",
       "      <td>54.0</td>\n",
       "      <td>2012-04-05</td>\n",
       "      <td>2012-04-01</td>\n",
       "      <td>judge_40</td>\n",
       "      <td>40.0</td>\n",
       "      <td>1.460349</td>\n",
       "      <td>769</td>\n",
       "    </tr>\n",
       "  </tbody>\n",
       "</table>\n",
       "<p>5 rows × 56 columns</p>\n",
       "</div>"
      ],
      "text/plain": [
       "   Unnamed: 0       CASE_ID  CASE_PARTICIPANT_ID          RECEIVED_DATE  \\\n",
       "0           0  149765331439         175691153649  8/15/1984 12:00:00 AM   \n",
       "1           1  163734000970         119572148070  5/27/2002 12:00:00 AM   \n",
       "2           2  182050890480         179762088011  8/23/2004 12:00:00 AM   \n",
       "3           3  188763617530         185554465998   8/9/2005 12:00:00 AM   \n",
       "4           4  195256796846         190097450194  2/21/2005 12:00:00 AM   \n",
       "\n",
       "    OFFENSE_CATEGORY  PRIMARY_CHARGE_FLAG    CHARGE_ID  CHARGE_VERSION_ID  \\\n",
       "0  PROMIS Conversion                 True  50510062193       112898098217   \n",
       "1  PROMIS Conversion                 True  60663908958       740041557966   \n",
       "2  PROMIS Conversion                 True  69728430461       658529032588   \n",
       "3  PROMIS Conversion                 True  77575875953       740046322415   \n",
       "4  PROMIS Conversion                 True  84905279838       212776826308   \n",
       "\n",
       "      DISPOSITION_CHARGED_OFFENSE_TITLE  CHARGE_COUNT  ... is_white_derived  \\\n",
       "0                   FIRST DEGREE MURDER             1  ...            False   \n",
       "1  POSSESSION OF A CONTROLLED SUBSTANCE             1  ...            False   \n",
       "2                    AGGRAVATED BATTERY             1  ...            False   \n",
       "3                VIOLATION OF BAIL BOND             1  ...            False   \n",
       "4           ATTEMPT FIRST DEGREE MURDER             1  ...            False   \n",
       "\n",
       "  is_other_derived is_male_derived age_derived sentenceymd_derived  \\\n",
       "0            False            True        27.0          2014-10-16   \n",
       "1            False            True        26.0          2015-11-09   \n",
       "2            False            True        35.0          2012-02-08   \n",
       "3            False            True         NaN          2015-11-09   \n",
       "4            False            True        54.0          2012-04-05   \n",
       "\n",
       "  sentenceym_derived judgeid_derived sentence_length sentence_length_zscore  \\\n",
       "0         2014-10-01        judge_40            62.0              -0.014996   \n",
       "1         2015-11-01        judge_40             1.0              -0.258566   \n",
       "2         2012-02-01        judge_40            10.0               2.181622   \n",
       "3         2015-11-01        judge_40             2.0              -0.439882   \n",
       "4         2012-04-01        judge_40            40.0               1.460349   \n",
       "\n",
       "  judges_total_cases  \n",
       "0                769  \n",
       "1                769  \n",
       "2                769  \n",
       "3                769  \n",
       "4                769  \n",
       "\n",
       "[5 rows x 56 columns]"
      ]
     },
     "execution_count": 7,
     "metadata": {},
     "output_type": "execute_result"
    },
    {
     "name": "stdout",
     "output_type": "stream",
     "text": [
      "<class 'pandas.core.frame.DataFrame'>\n",
      "RangeIndex: 73222 entries, 0 to 73221\n",
      "Data columns (total 56 columns):\n",
      " #   Column                             Non-Null Count  Dtype  \n",
      "---  ------                             --------------  -----  \n",
      " 0   Unnamed: 0                         73222 non-null  int64  \n",
      " 1   CASE_ID                            73222 non-null  int64  \n",
      " 2   CASE_PARTICIPANT_ID                73222 non-null  int64  \n",
      " 3   RECEIVED_DATE                      73222 non-null  object \n",
      " 4   OFFENSE_CATEGORY                   73222 non-null  object \n",
      " 5   PRIMARY_CHARGE_FLAG                73222 non-null  bool   \n",
      " 6   CHARGE_ID                          73222 non-null  int64  \n",
      " 7   CHARGE_VERSION_ID                  73222 non-null  int64  \n",
      " 8   DISPOSITION_CHARGED_OFFENSE_TITLE  73222 non-null  object \n",
      " 9   CHARGE_COUNT                       73222 non-null  int64  \n",
      " 10  DISPOSITION_DATE                   73222 non-null  object \n",
      " 11  DISPOSITION_CHARGED_CHAPTER        73222 non-null  object \n",
      " 12  DISPOSITION_CHARGED_ACT            72649 non-null  object \n",
      " 13  DISPOSITION_CHARGED_SECTION        72649 non-null  object \n",
      " 14  DISPOSITION_CHARGED_CLASS          73219 non-null  object \n",
      " 15  DISPOSITION_CHARGED_AOIC           73219 non-null  object \n",
      " 16  CHARGE_DISPOSITION                 73222 non-null  object \n",
      " 17  CHARGE_DISPOSITION_REASON          29 non-null     object \n",
      " 18  SENTENCE_JUDGE                     73222 non-null  object \n",
      " 19  SENTENCE_COURT_NAME                73064 non-null  object \n",
      " 20  SENTENCE_COURT_FACILITY            72913 non-null  object \n",
      " 21  SENTENCE_PHASE                     73222 non-null  object \n",
      " 22  SENTENCE_DATE                      73222 non-null  object \n",
      " 23  SENTENCE_TYPE                      73222 non-null  object \n",
      " 24  CURRENT_SENTENCE_FLAG              73222 non-null  bool   \n",
      " 25  COMMITMENT_TYPE                    73222 non-null  object \n",
      " 26  COMMITMENT_TERM                    73222 non-null  float64\n",
      " 27  COMMITMENT_UNIT                    73222 non-null  object \n",
      " 28  LENGTH_OF_CASE_in_Days             69580 non-null  float64\n",
      " 29  AGE_AT_INCIDENT                    70368 non-null  float64\n",
      " 30  RACE                               73008 non-null  object \n",
      " 31  GENDER                             73101 non-null  object \n",
      " 32  INCIDENT_CITY                      69341 non-null  object \n",
      " 33  INCIDENT_BEGIN_DATE                70503 non-null  object \n",
      " 34  INCIDENT_END_DATE                  6049 non-null   object \n",
      " 35  LAW_ENFORCEMENT_AGENCY             70578 non-null  object \n",
      " 36  LAW_ENFORCEMENT_UNIT               23922 non-null  object \n",
      " 37  ARREST_DATE                        71447 non-null  object \n",
      " 38  FELONY_REVIEW_DATE                 50993 non-null  object \n",
      " 39  FELONY_REVIEW_RESULT               50993 non-null  object \n",
      " 40  ARRAIGNMENT_DATE                   69580 non-null  object \n",
      " 41  UPDATED_OFFENSE_CATEGORY           73222 non-null  object \n",
      " 42  is_changed_offense                 73222 non-null  bool   \n",
      " 43  simplified_offense_derived         73222 non-null  object \n",
      " 44  is_black_derived                   73222 non-null  bool   \n",
      " 45  is_hisp_derived                    73222 non-null  bool   \n",
      " 46  is_white_derived                   73222 non-null  bool   \n",
      " 47  is_other_derived                   73222 non-null  bool   \n",
      " 48  is_male_derived                    73222 non-null  bool   \n",
      " 49  age_derived                        70368 non-null  float64\n",
      " 50  sentenceymd_derived                73222 non-null  object \n",
      " 51  sentenceym_derived                 73222 non-null  object \n",
      " 52  judgeid_derived                    73222 non-null  object \n",
      " 53  sentence_length                    73222 non-null  float64\n",
      " 54  sentence_length_zscore             72792 non-null  float64\n",
      " 55  judges_total_cases                 73222 non-null  int64  \n",
      "dtypes: bool(8), float64(6), int64(7), object(35)\n",
      "memory usage: 27.4+ MB\n"
     ]
    },
    {
     "data": {
      "text/plain": [
       "(73222, 56)"
      ]
     },
     "execution_count": 7,
     "metadata": {},
     "output_type": "execute_result"
    }
   ],
   "source": [
    "sentencing_df.head()\n",
    "sentencing_df.info()\n",
    "sentencing_df.shape"
   ]
  },
  {
   "cell_type": "markdown",
   "id": "59d19341",
   "metadata": {},
   "source": [
    "# Investigate factors that may affect sentence severity"
   ]
  },
  {
   "cell_type": "markdown",
   "id": "0c3117f5",
   "metadata": {},
   "source": [
    "## Investigate Race"
   ]
  },
  {
   "cell_type": "code",
   "execution_count": null,
   "id": "faeb5818",
   "metadata": {},
   "outputs": [],
   "source": [
    "\n",
    "judges = sentencing_df.groupby(\"SENTENCE_JUDGE\")[\"sentence_length_zscore\"].apply(np.mean).sort_values(ascending = False)\n",
    "\n",
    "## list of top 50% and bottom 50% judges in terms of sentencing severity\n",
    "\n",
    "max_judges = judges[:123].index\n",
    "\n",
    "min_judges = judges[124:].index\n",
    "\n",
    "max_subset = sentencing_df[sentencing_df[\"SENTENCE_JUDGE\"].isin(max_judges)]\n",
    "\n",
    "min_subset = sentencing_df[sentencing_df[\"SENTENCE_JUDGE\"].isin(min_judges)]\n",
    "\n",
    "\n",
    "min_subset.columns"
   ]
  },
  {
   "cell_type": "code",
   "execution_count": 9,
   "id": "0bce1c84",
   "metadata": {},
   "outputs": [
    {
     "data": {
      "text/plain": [
       "False    51334\n",
       "True      6430\n",
       "Name: is_white_derived, dtype: int64"
      ]
     },
     "execution_count": 9,
     "metadata": {},
     "output_type": "execute_result"
    },
    {
     "data": {
      "text/plain": [
       "False    11902\n",
       "True      2231\n",
       "Name: is_white_derived, dtype: int64"
      ]
     },
     "execution_count": 9,
     "metadata": {},
     "output_type": "execute_result"
    },
    {
     "data": {
      "text/plain": [
       "57764"
      ]
     },
     "execution_count": 9,
     "metadata": {},
     "output_type": "execute_result"
    },
    {
     "data": {
      "text/plain": [
       "14133"
      ]
     },
     "execution_count": 9,
     "metadata": {},
     "output_type": "execute_result"
    }
   ],
   "source": [
    "max_subset[\"is_white_derived\"].value_counts()\n",
    "min_subset[\"is_white_derived\"].value_counts()\n",
    "\n",
    "## number of cases \n",
    "max_subset[\"CASE_ID\"].nunique()\n",
    "min_subset[\"CASE_ID\"].nunique()"
   ]
  },
  {
   "cell_type": "code",
   "execution_count": 10,
   "id": "e6089d67",
   "metadata": {},
   "outputs": [
    {
     "data": {
      "text/plain": [
       "is_white_derived  simplified_offense_derived   \n",
       "False             Armed Robbery                    0.079849\n",
       "                  Armed Violence                  -0.142857\n",
       "                  Arson                           -0.030553\n",
       "                  Assault Police Officer           0.099844\n",
       "                  Attempt Armed Robbery            0.029077\n",
       "                                                     ...   \n",
       "True              UUW - Unlawful Use of Weapon    -0.156511\n",
       "                  Unlawful Restraint               0.239420\n",
       "                  Vehicle-related                  0.230121\n",
       "                  Violate Bail Bond               -0.055874\n",
       "                  Violation Order Of Protection   -0.156347\n",
       "Name: sentence_length_zscore, Length: 115, dtype: float64"
      ]
     },
     "execution_count": 10,
     "metadata": {},
     "output_type": "execute_result"
    },
    {
     "data": {
      "text/plain": [
       "is_white_derived  simplified_offense_derived   \n",
       "False             Armed Robbery                    0.079849\n",
       "                  Armed Violence                  -0.142857\n",
       "                  Arson                           -0.030553\n",
       "                  Assault Police Officer           0.099844\n",
       "                  Attempt Armed Robbery            0.029077\n",
       "                                                     ...   \n",
       "True              UUW - Unlawful Use of Weapon    -0.156511\n",
       "                  Unlawful Restraint               0.239420\n",
       "                  Vehicle-related                  0.230121\n",
       "                  Violate Bail Bond               -0.055874\n",
       "                  Violation Order Of Protection   -0.156347\n",
       "Name: sentence_length_zscore, Length: 115, dtype: float64"
      ]
     },
     "execution_count": 10,
     "metadata": {},
     "output_type": "execute_result"
    }
   ],
   "source": [
    "## Race \n",
    "sentencing_df.groupby([\"is_white_derived\", \"simplified_offense_derived\"])[\"sentence_length_zscore\"].apply(np.mean)\n",
    "sentencing_df.groupby([\"is_white_derived\", \"simplified_offense_derived\"])[\"sentence_length_zscore\"].apply(np.mean)"
   ]
  },
  {
   "cell_type": "markdown",
   "id": "5e791ad1",
   "metadata": {},
   "source": [
    "### Investigate based upon location "
   ]
  },
  {
   "cell_type": "code",
   "execution_count": 11,
   "id": "c8c3df9b",
   "metadata": {},
   "outputs": [
    {
     "data": {
      "text/plain": [
       "SENTENCE_COURT_FACILITY\n",
       "26TH Street                     0.030753\n",
       "51st & Wentworth (Area 1)       0.594640\n",
       "727 E. 111th Street (Area 2)   -0.701573\n",
       "Belmont & Western (Area 3)     -0.450302\n",
       "Bridgeview Courthouse          -0.055841\n",
       "DV Courthouse                  -0.204305\n",
       "Grand & Central (Area 5)       -0.477308\n",
       "Harrison & Kedzie (Area 4)     -0.039666\n",
       "Markham Courthouse             -0.112688\n",
       "Maywood Courthouse             -0.036334\n",
       "PROMIS                         -0.126594\n",
       "Rolling Meadows Courthouse     -0.012579\n",
       "Skokie Courthouse              -0.007978\n",
       "Name: sentence_length_zscore, dtype: float64"
      ]
     },
     "execution_count": 11,
     "metadata": {},
     "output_type": "execute_result"
    },
    {
     "data": {
      "text/plain": [
       "INCIDENT_CITY\n",
       "Algonquin           -0.053951\n",
       "Alsip                0.050445\n",
       "Arlington Heights    0.074281\n",
       "Arlington Hts        0.270067\n",
       "Barrington           0.546501\n",
       "                       ...   \n",
       "Wilmette            -0.041509\n",
       "Winnetka             0.121823\n",
       "Wood Dale           -0.648886\n",
       "Woodstock           -0.116232\n",
       "Worth               -0.248008\n",
       "Name: sentence_length_zscore, Length: 195, dtype: float64"
      ]
     },
     "execution_count": 11,
     "metadata": {},
     "output_type": "execute_result"
    },
    {
     "data": {
      "text/plain": [
       "SENTENCE_COURT_FACILITY\n",
       "26TH Street                     0.030753\n",
       "51st & Wentworth (Area 1)       0.594640\n",
       "727 E. 111th Street (Area 2)   -0.701573\n",
       "Belmont & Western (Area 3)     -0.450302\n",
       "Bridgeview Courthouse          -0.055841\n",
       "DV Courthouse                  -0.204305\n",
       "Grand & Central (Area 5)       -0.477308\n",
       "Harrison & Kedzie (Area 4)     -0.039666\n",
       "Markham Courthouse             -0.112688\n",
       "Maywood Courthouse             -0.036334\n",
       "PROMIS                         -0.126594\n",
       "Rolling Meadows Courthouse     -0.012579\n",
       "Skokie Courthouse              -0.007978\n",
       "Name: sentence_length_zscore, dtype: float64"
      ]
     },
     "execution_count": 11,
     "metadata": {},
     "output_type": "execute_result"
    }
   ],
   "source": [
    "## court location \n",
    "sentencing_df.groupby(\"SENTENCE_COURT_FACILITY\")[\"sentence_length_zscore\"].apply(np.mean)\n",
    "\n",
    "\n",
    "## crime location \n",
    "sentencing_df.groupby(\"INCIDENT_CITY\")[\"sentence_length_zscore\"].apply(np.mean)\n",
    "\n",
    "\n",
    "#location of court house \n",
    "sentencing_df.groupby(\"SENTENCE_COURT_FACILITY\")[\"sentence_length_zscore\"].apply(np.mean)"
   ]
  },
  {
   "cell_type": "markdown",
   "id": "1269eaa1",
   "metadata": {},
   "source": [
    "### Investigate based upon Age"
   ]
  },
  {
   "cell_type": "code",
   "execution_count": 12,
   "id": "9b8f668c",
   "metadata": {},
   "outputs": [
    {
     "data": {
      "text/plain": [
       "AGE_AT_INCIDENT\n",
       "137.0   -0.824173\n",
       "82.0    -0.805030\n",
       "76.0    -0.787398\n",
       "114.0   -0.710114\n",
       "77.0    -0.486377\n",
       "           ...   \n",
       "63.0     0.151033\n",
       "41.0     0.151580\n",
       "60.0     0.182536\n",
       "70.0     0.263063\n",
       "78.0     1.400792\n",
       "Name: sentence_length_zscore, Length: 68, dtype: float64"
      ]
     },
     "execution_count": 12,
     "metadata": {},
     "output_type": "execute_result"
    }
   ],
   "source": [
    "sentencing_df.groupby(\"AGE_AT_INCIDENT\")[\"sentence_length_zscore\"].apply(np.mean).sort_values()"
   ]
  },
  {
   "cell_type": "markdown",
   "id": "8a6a3905",
   "metadata": {},
   "source": [
    "### Investigate based upon gender"
   ]
  },
  {
   "cell_type": "code",
   "execution_count": 13,
   "id": "c7fab3b1",
   "metadata": {},
   "outputs": [
    {
     "data": {
      "text/plain": [
       "GENDER\n",
       "Female                       -0.148537\n",
       "Male                          0.011291\n",
       "Male name, no gender given   -0.332668\n",
       "Unknown                       0.225404\n",
       "Unknown Gender               -0.366844\n",
       "Name: sentence_length_zscore, dtype: float64"
      ]
     },
     "execution_count": 13,
     "metadata": {},
     "output_type": "execute_result"
    }
   ],
   "source": [
    "sentencing_df.groupby(\"GENDER\")[\"sentence_length_zscore\"].apply(np.mean)"
   ]
  },
  {
   "cell_type": "markdown",
   "id": "bd6e2f43",
   "metadata": {},
   "source": [
    "### Investigate based upon Law Enforcement agency"
   ]
  },
  {
   "cell_type": "code",
   "execution_count": 14,
   "id": "aff97721",
   "metadata": {},
   "outputs": [
    {
     "data": {
      "text/plain": [
       "LAW_ENFORCEMENT_AGENCY\n",
       "ALSIP PD                                   0.088349\n",
       "AMTRAK NATIONAL RAILROAD PASSENGER CORP   -0.154000\n",
       "ARLINGTON HEIGHTS PD                       0.067842\n",
       "ARLINGTON HEIGHTS POLICE DEPARTMENT       -0.390060\n",
       "BARRINGTON HILLS PD                       -0.164716\n",
       "                                             ...   \n",
       "WILLOW SPRINGS PD                         -0.290648\n",
       "WILMETTE PD                               -0.036643\n",
       "WILMETTE POLICE DEPARTMENT                 0.167382\n",
       "WINNETKA PD                                0.041495\n",
       "WORTH PD                                  -0.218557\n",
       "Name: sentence_length_zscore, Length: 375, dtype: float64"
      ]
     },
     "execution_count": 14,
     "metadata": {},
     "output_type": "execute_result"
    }
   ],
   "source": [
    "sentencing_df.groupby(\"LAW_ENFORCEMENT_AGENCY\")[\"sentence_length_zscore\"].apply(np.mean)\n",
    " "
   ]
  },
  {
   "cell_type": "markdown",
   "id": "dd4ad5ff",
   "metadata": {},
   "source": [
    "### Investigate based upon severity over time "
   ]
  },
  {
   "cell_type": "code",
   "execution_count": 15,
   "id": "81758f91",
   "metadata": {},
   "outputs": [
    {
     "data": {
      "text/plain": [
       "[<matplotlib.lines.Line2D at 0x7fe478fcb280>]"
      ]
     },
     "execution_count": 15,
     "metadata": {},
     "output_type": "execute_result"
    },
    {
     "data": {
      "image/png": "[encoded data removed]",
      "text/plain": [
       "<Figure size 640x480 with 1 Axes>"
      ]
     },
     "metadata": {},
     "output_type": "display_data"
    }
   ],
   "source": [
    "## Severity over time \n",
    "\n",
    "sentencing_df['ARREST_DATE'] = pd.to_datetime(sentencing_df['ARREST_DATE'])\n",
    "\n",
    "plt.plot(sentencing_df[\"ARREST_DATE\"], sentencing_df[\"sentence_length_zscore\"])"
   ]
  },
  {
   "cell_type": "code",
   "execution_count": 16,
   "id": "a0a3b574",
   "metadata": {},
   "outputs": [
    {
     "data": {
      "text/plain": [
       "SENTENCE_TYPE\n",
       "Probation                               -0.540041\n",
       "Probation Terminated Instanter          -0.475841\n",
       "Jail                                    -0.280403\n",
       "Inpatient Mental Health Services        -0.258566\n",
       "Probation Terminated Unsatisfactorily   -0.189491\n",
       "2nd Chance Probation                    -0.181474\n",
       "Cook County Boot Camp                   -0.177266\n",
       "Conditional Discharge                    0.012814\n",
       "Prison                                   0.024475\n",
       "Supervision                              0.421073\n",
       "Conditional Release                      0.486818\n",
       "Probation Terminated Satisfactorily      1.128597\n",
       "Death                                    1.610313\n",
       "Name: sentence_length_zscore, dtype: float64"
      ]
     },
     "execution_count": 16,
     "metadata": {},
     "output_type": "execute_result"
    }
   ],
   "source": [
    "## Sentence type (be wary of this)\n",
    "\n",
    "sentencing_df.groupby(\"SENTENCE_TYPE\")[\"sentence_length_zscore\"].apply(np.mean).sort_values()"
   ]
  },
  {
   "cell_type": "code",
   "execution_count": null,
   "id": "c7be58d8",
   "metadata": {},
   "outputs": [],
   "source": []
  },
  {
   "cell_type": "code",
   "execution_count": null,
   "id": "aefe4818",
   "metadata": {},
   "outputs": [],
   "source": []
  },
  {
   "cell_type": "code",
   "execution_count": null,
   "id": "20d8142d",
   "metadata": {},
   "outputs": [],
   "source": []
  }
 ],
 "metadata": {
  "kernelspec": {
   "display_name": "Python 3 (ipykernel)",
   "language": "python",
   "name": "python3"
  },
  "language_info": {
   "codemirror_mode": {
    "name": "ipython",
    "version": 3
   },
   "file_extension": ".py",
   "mimetype": "text/x-python",
   "name": "python",
   "nbconvert_exporter": "python",
   "pygments_lexer": "ipython3",
   "version": "3.9.13"
  }
 },
 "nbformat": 4,
 "nbformat_minor": 5
}
