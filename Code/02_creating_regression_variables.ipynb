{
 "cells": [
  {
   "cell_type": "markdown",
   "id": "735027d7",
   "metadata": {},
   "source": [
    "## Creating Additional Columns (Independent Variables) Needed For Analysis"
   ]
  },
  {
   "cell_type": "markdown",
   "id": "d7b737b0",
   "metadata": {},
   "source": [
    "## Load packages"
   ]
  },
  {
   "cell_type": "code",
   "execution_count": 1,
   "id": "a98490aa",
   "metadata": {},
   "outputs": [],
   "source": [
    "import pandas as pd\n",
    "import numpy as np\n",
    "import random\n",
    "import re\n",
    "import os\n",
    "import matplotlib.pyplot as plt\n",
    "\n",
    "## Note the code below is not a function, it just resets the output so it shows all lines\n",
    "\n",
    "from IPython.core.interactiveshell import InteractiveShell\n",
    "InteractiveShell.ast_node_interactivity = \"all\""
   ]
  },
  {
   "cell_type": "markdown",
   "id": "f3aa36ff",
   "metadata": {},
   "source": [
    "## Load and Inspect Cleaned Data (with Z Scores)"
   ]
  },
  {
   "cell_type": "code",
   "execution_count": 2,
   "id": "358e7a33",
   "metadata": {},
   "outputs": [],
   "source": [
    "sentencing_df = pd.read_csv(\"../Data/sentencing_data_withZ.csv\", low_memory = False)"
   ]
  },
  {
   "cell_type": "code",
   "execution_count": 3,
   "id": "d7c35cbb",
   "metadata": {},
   "outputs": [
    {
     "name": "stdout",
     "output_type": "stream",
     "text": [
      "<class 'pandas.core.frame.DataFrame'>\n",
      "RangeIndex: 65857 entries, 0 to 65856\n",
      "Data columns (total 55 columns):\n",
      " #   Column                             Non-Null Count  Dtype  \n",
      "---  ------                             --------------  -----  \n",
      " 0   Unnamed: 0                         65857 non-null  int64  \n",
      " 1   CASE_ID                            65857 non-null  int64  \n",
      " 2   CASE_PARTICIPANT_ID                65857 non-null  int64  \n",
      " 3   RECEIVED_DATE                      65857 non-null  object \n",
      " 4   OFFENSE_CATEGORY                   65857 non-null  object \n",
      " 5   PRIMARY_CHARGE_FLAG                65857 non-null  bool   \n",
      " 6   CHARGE_ID                          65857 non-null  int64  \n",
      " 7   CHARGE_VERSION_ID                  65857 non-null  int64  \n",
      " 8   DISPOSITION_CHARGED_OFFENSE_TITLE  65857 non-null  object \n",
      " 9   CHARGE_COUNT                       65857 non-null  int64  \n",
      " 10  DISPOSITION_DATE                   65857 non-null  object \n",
      " 11  DISPOSITION_CHARGED_CHAPTER        65857 non-null  object \n",
      " 12  DISPOSITION_CHARGED_ACT            65462 non-null  object \n",
      " 13  DISPOSITION_CHARGED_SECTION        65462 non-null  object \n",
      " 14  DISPOSITION_CHARGED_CLASS          65857 non-null  object \n",
      " 15  DISPOSITION_CHARGED_AOIC           65855 non-null  object \n",
      " 16  CHARGE_DISPOSITION                 65857 non-null  object \n",
      " 17  CHARGE_DISPOSITION_REASON          4 non-null      object \n",
      " 18  SENTENCE_JUDGE                     65857 non-null  object \n",
      " 19  SENTENCE_COURT_NAME                65746 non-null  object \n",
      " 20  SENTENCE_COURT_FACILITY            65619 non-null  object \n",
      " 21  SENTENCE_PHASE                     65857 non-null  object \n",
      " 22  SENTENCE_DATE                      65857 non-null  object \n",
      " 23  SENTENCE_TYPE                      65857 non-null  object \n",
      " 24  CURRENT_SENTENCE_FLAG              65857 non-null  bool   \n",
      " 25  COMMITMENT_TYPE                    65857 non-null  object \n",
      " 26  COMMITMENT_TERM                    65857 non-null  float64\n",
      " 27  COMMITMENT_UNIT                    65857 non-null  object \n",
      " 28  LENGTH_OF_CASE_in_Days             62667 non-null  float64\n",
      " 29  AGE_AT_INCIDENT                    63266 non-null  float64\n",
      " 30  RACE                               65667 non-null  object \n",
      " 31  GENDER                             65747 non-null  object \n",
      " 32  INCIDENT_CITY                      62569 non-null  object \n",
      " 33  INCIDENT_BEGIN_DATE                63378 non-null  object \n",
      " 34  INCIDENT_END_DATE                  5241 non-null   object \n",
      " 35  LAW_ENFORCEMENT_AGENCY             63444 non-null  object \n",
      " 36  LAW_ENFORCEMENT_UNIT               21987 non-null  object \n",
      " 37  ARREST_DATE                        64284 non-null  object \n",
      " 38  FELONY_REVIEW_DATE                 45176 non-null  object \n",
      " 39  FELONY_REVIEW_RESULT               45176 non-null  object \n",
      " 40  ARRAIGNMENT_DATE                   62667 non-null  object \n",
      " 41  UPDATED_OFFENSE_CATEGORY           65857 non-null  object \n",
      " 42  is_changed_offense                 65857 non-null  bool   \n",
      " 43  simplified_offense_derived         65857 non-null  object \n",
      " 44  is_black_derived                   65857 non-null  bool   \n",
      " 45  is_hisp_derived                    65857 non-null  bool   \n",
      " 46  is_white_derived                   65857 non-null  bool   \n",
      " 47  is_other_derived                   65857 non-null  bool   \n",
      " 48  is_male_derived                    65857 non-null  bool   \n",
      " 49  age_derived                        63266 non-null  float64\n",
      " 50  sentenceymd_derived                65857 non-null  object \n",
      " 51  sentenceym_derived                 65857 non-null  object \n",
      " 52  judgeid_derived                    65857 non-null  object \n",
      " 53  sentence_length                    65857 non-null  float64\n",
      " 54  sentence_length_zscore             65857 non-null  float64\n",
      "dtypes: bool(8), float64(6), int64(6), object(35)\n",
      "memory usage: 24.1+ MB\n",
      "   Unnamed: 0       CASE_ID  CASE_PARTICIPANT_ID           RECEIVED_DATE  \\\n",
      "0           0  149765331439         175691153649   8/15/1984 12:00:00 AM   \n",
      "1           2  154954734978         225758446387    6/8/2001 12:00:00 AM   \n",
      "2           7  156558681704         231553844285   7/17/2001 12:00:00 AM   \n",
      "3           8  156687326397         231648216503   7/14/2001 12:00:00 AM   \n",
      "4           9  156996749190         238415836990  10/20/2001 12:00:00 AM   \n",
      "\n",
      "    OFFENSE_CATEGORY  PRIMARY_CHARGE_FLAG    CHARGE_ID  CHARGE_VERSION_ID  \\\n",
      "0  PROMIS Conversion                 True  50510062193       112898098217   \n",
      "1  PROMIS Conversion                 True  54885211141       174293345821   \n",
      "2  PROMIS Conversion                 True  58235136444       720561595284   \n",
      "3  PROMIS Conversion                 True  58397124997       657244593247   \n",
      "4  PROMIS Conversion                 True  58424726399       219609793234   \n",
      "\n",
      "                   DISPOSITION_CHARGED_OFFENSE_TITLE  CHARGE_COUNT  ...  \\\n",
      "0                                FIRST DEGREE MURDER             1  ...   \n",
      "1                              VIO BAIL BOND/CLASS 1             1  ...   \n",
      "2                                  2ND DEGREE MURDER             1  ...   \n",
      "3  [POSSESSION OF CONTROLLED SUBSTANCE WITH INTEN...             1  ...   \n",
      "4                       MURDER/INTENT TO KILL/INJURE             1  ...   \n",
      "\n",
      "  is_hisp_derived is_white_derived is_other_derived is_male_derived  \\\n",
      "0           False            False            False            True   \n",
      "1            True            False            False            True   \n",
      "2           False            False            False            True   \n",
      "3            True            False            False            True   \n",
      "4           False            False            False            True   \n",
      "\n",
      "  age_derived sentenceymd_derived sentenceym_derived judgeid_derived  \\\n",
      "0        27.0          2014-10-16         2014-10-01        judge_40   \n",
      "1        38.0          2013-12-02         2013-12-01       judge_162   \n",
      "2        17.0          2014-12-04         2014-12-01       judge_329   \n",
      "3        27.0          2012-01-19         2012-01-01       judge_211   \n",
      "4        23.0          2012-03-14         2012-03-01       judge_113   \n",
      "\n",
      "  sentence_length sentence_length_zscore  \n",
      "0            62.0               1.071864  \n",
      "1             3.0              -0.734968  \n",
      "2            20.0               0.836916  \n",
      "3             6.0               0.064078  \n",
      "4            45.0              -0.355330  \n",
      "\n",
      "[5 rows x 55 columns] None (65857, 55)\n"
     ]
    }
   ],
   "source": [
    "print(sentencing_df.head(), sentencing_df.info(), sentencing_df.shape)"
   ]
  },
  {
   "cell_type": "markdown",
   "id": "eb8d5523",
   "metadata": {},
   "source": [
    "## Changing existing boolean race and gender data to binary"
   ]
  },
  {
   "cell_type": "code",
   "execution_count": 10,
   "id": "6f296ff5",
   "metadata": {},
   "outputs": [
    {
     "name": "stdout",
     "output_type": "stream",
     "text": [
      "       is_black_derived  is_other_derived  is_hisp_derived  is_other_derived  \\\n",
      "0                     1                 0                0                 0   \n",
      "1                     0                 0                1                 0   \n",
      "2                     1                 0                0                 0   \n",
      "3                     0                 0                1                 0   \n",
      "4                     1                 0                0                 0   \n",
      "...                 ...               ...              ...               ...   \n",
      "65852                 0                 0                0                 0   \n",
      "65853                 1                 0                0                 0   \n",
      "65854                 0                 0                0                 0   \n",
      "65855                 0                 0                0                 0   \n",
      "65856                 0                 0                0                 0   \n",
      "\n",
      "       is_male_derived  \n",
      "0                    1  \n",
      "1                    1  \n",
      "2                    1  \n",
      "3                    1  \n",
      "4                    1  \n",
      "...                ...  \n",
      "65852                1  \n",
      "65853                1  \n",
      "65854                1  \n",
      "65855                1  \n",
      "65856                1  \n",
      "\n",
      "[65857 rows x 5 columns]\n"
     ]
    }
   ],
   "source": [
    "## for regression, is_(race)_derived and is_male_derived variables need to be binary\n",
    "\n",
    "sentencing_df[[\"is_black_derived\", \"is_white_derived\", \"is_hisp_derived\", \"is_other_derived\", \"is_male_derived\"]] = sentencing_df[[\"is_black_derived\", \"is_white_derived\", \"is_hisp_derived\", \"is_other_derived\", \"is_male_derived\"]].astype(int)\n",
    "\n",
    "\n",
    "## Checking to make sure binary variables created properly\n",
    "\n",
    "print(sentencing_df[[\"is_black_derived\", \"is_other_derived\", \"is_hisp_derived\", \"is_other_derived\", \"is_male_derived\"]])"
   ]
  },
  {
   "cell_type": "markdown",
   "id": "b17875e4",
   "metadata": {},
   "source": [
    "## Creating is_guilty_plea and is_innocent_plea"
   ]
  },
  {
   "cell_type": "code",
   "execution_count": 11,
   "id": "c955cbd2",
   "metadata": {},
   "outputs": [
    {
     "name": "stdout",
     "output_type": "stream",
     "text": [
      "       is_guilty_plea  is_innocent_plea CHARGE_DISPOSITION\n",
      "0                   1                 0     Plea Of Guilty\n",
      "1                   1                 0     Plea Of Guilty\n",
      "2                   1                 0     Plea Of Guilty\n",
      "3                   1                 0     Plea Of Guilty\n",
      "4                   0                 1     Verdict Guilty\n",
      "...               ...               ...                ...\n",
      "65852               1                 0     Plea Of Guilty\n",
      "65853               1                 0     Plea Of Guilty\n",
      "65854               1                 0     Plea Of Guilty\n",
      "65855               1                 0     Plea Of Guilty\n",
      "65856               1                 0     Plea Of Guilty\n",
      "\n",
      "[65857 rows x 3 columns]\n"
     ]
    }
   ],
   "source": [
    "## Need to create a binary variable for innocent and guilty pleas out of CHARGE_DISPOSITION\n",
    "\n",
    "## Binary Guilty: \n",
    "\n",
    "sentencing_df[\"is_guilty_plea\"] = np.where(sentencing_df[\"CHARGE_DISPOSITION\"] == \"Plea Of Guilty\", 1, 0)\n",
    "\n",
    "## Binary Not Guilty:\n",
    "\n",
    "sentencing_df[\"is_innocent_plea\"] = np.where(sentencing_df[\"CHARGE_DISPOSITION\"] == \"Plea Of Guilty\", 0, 1)\n",
    "\n",
    "\n",
    "## Checking to make sure the variable worked: \n",
    "\n",
    "print(sentencing_df[[\"is_guilty_plea\", \"is_innocent_plea\", \"CHARGE_DISPOSITION\"]])"
   ]
  },
  {
   "cell_type": "markdown",
   "id": "55228874",
   "metadata": {},
   "source": [
    "## Creating is_female_derived (is_male_derived already exists)"
   ]
  },
  {
   "cell_type": "code",
   "execution_count": 12,
   "id": "da2309b7",
   "metadata": {},
   "outputs": [
    {
     "name": "stdout",
     "output_type": "stream",
     "text": [
      "       is_female_derived GENDER\n",
      "0                      0   Male\n",
      "1                      0   Male\n",
      "2                      0   Male\n",
      "3                      0   Male\n",
      "4                      0   Male\n",
      "...                  ...    ...\n",
      "65852                  0   Male\n",
      "65853                  0   Male\n",
      "65854                  0   Male\n",
      "65855                  0   Male\n",
      "65856                  0   Male\n",
      "\n",
      "[65857 rows x 2 columns]\n"
     ]
    }
   ],
   "source": [
    "## Need to create a binary variable for females to complement is_male\n",
    "\n",
    "sentencing_df[\"is_female_derived\"] = np.where(sentencing_df[\"GENDER\"] == \"Female\", 1, 0)\n",
    "\n",
    "## Checking to make sure it worked:\n",
    "\n",
    "print(sentencing_df[[\"is_female_derived\", \"GENDER\"]])\n"
   ]
  },
  {
   "cell_type": "markdown",
   "id": "9e248030",
   "metadata": {},
   "source": [
    "## Converting Sentenceymd_derived from String to Datetime object"
   ]
  },
  {
   "cell_type": "code",
   "execution_count": 13,
   "id": "5ae16c0e",
   "metadata": {},
   "outputs": [
    {
     "name": "stdout",
     "output_type": "stream",
     "text": [
      "<class 'pandas._libs.tslibs.timestamps.Timestamp'>\n"
     ]
    }
   ],
   "source": [
    "## Converting to Datetime\n",
    "\n",
    "sentencing_df[\"sentenceymd_derived_dt\"] = pd.to_datetime(sentencing_df[\"sentenceymd_derived\"])\n",
    "\n",
    "## Checking to make sure it worked \n",
    "\n",
    "print(type(sentencing_df[\"sentenceymd_derived_dt\"][1]))"
   ]
  },
  {
   "cell_type": "markdown",
   "id": "fb2e3ff8",
   "metadata": {},
   "source": [
    "## Creating Nth Case (To measure how judicial experience corresponds to severity) "
   ]
  },
  {
   "cell_type": "code",
   "execution_count": 8,
   "id": "70d37fb3",
   "metadata": {},
   "outputs": [
    {
     "name": "stdout",
     "output_type": "stream",
     "text": [
      "<bound method NDFrame.head of        Unnamed: 0       CASE_ID  CASE_PARTICIPANT_ID           RECEIVED_DATE  \\\n",
      "57587      116398  429485886505         854062814867    3/7/2018 12:00:00 AM   \n",
      "58879      119085  430780557292         858166118899   5/25/2018 12:00:00 AM   \n",
      "62770      127700  435531599636         872618846575   3/12/2019 12:00:00 AM   \n",
      "60794      123275  432903928993         864718665101   9/26/2018 12:00:00 AM   \n",
      "60718      123109  432818606428         864445174414   9/20/2018 12:00:00 AM   \n",
      "...           ...           ...                  ...                     ...   \n",
      "43250       87511  417323529438         814831906416    1/9/2016 12:00:00 AM   \n",
      "42545       85980  416715404242         812927097571  11/28/2015 12:00:00 AM   \n",
      "52248      105567  424442309656         837900156976   4/14/2017 12:00:00 AM   \n",
      "52514      106082  424655395784         838575767684   4/27/2017 12:00:00 AM   \n",
      "42211       85308  416479702494         812173252295  11/12/2015 12:00:00 AM   \n",
      "\n",
      "                                OFFENSE_CATEGORY  PRIMARY_CHARGE_FLAG  \\\n",
      "57587                                  Narcotics                 True   \n",
      "58879               UUW - Unlawful Use of Weapon                 True   \n",
      "62770                 Escape - Failure to Return                 True   \n",
      "60794  Driving With Suspended Or Revoked License                 True   \n",
      "60718                                   Burglary                 True   \n",
      "...                                          ...                  ...   \n",
      "43250                           Domestic Battery                 True   \n",
      "42545                Criminal Damage to Property                 True   \n",
      "52248              Violation Order Of Protection                 True   \n",
      "52514                           Domestic Battery                 True   \n",
      "42211                Criminal Damage to Property                 True   \n",
      "\n",
      "          CHARGE_ID  CHARGE_VERSION_ID  \\\n",
      "57587  422021609701       810033646175   \n",
      "58879  424407295874       791834479431   \n",
      "62770  432591136591       807444028128   \n",
      "60794  428219305844       799079244206   \n",
      "60718  428059579700       798774226063   \n",
      "...             ...                ...   \n",
      "43250  398925571299       743296890956   \n",
      "42545  397750928043       741086653821   \n",
      "52248  412439398521       769024634149   \n",
      "52514  413582870795       771149578308   \n",
      "42211  397292262129       740236526684   \n",
      "\n",
      "                       DISPOSITION_CHARGED_OFFENSE_TITLE  CHARGE_COUNT  ...  \\\n",
      "57587               POSSESSION OF A CONTROLLED SUBSTANCE             1  ...   \n",
      "58879  UNLAWFUL USE OR POSSESSION OF A WEAPON BY A FELON             1  ...   \n",
      "62770  ESCAPE; FAILURE TO COMPLY WITH A CONDITION OF ...             1  ...   \n",
      "60794  FELONY DRIVING WHILE DRIVER?S LICENSE, PERMIT,...             1  ...   \n",
      "60718                                           BURGLARY             1  ...   \n",
      "...                                                  ...           ...  ...   \n",
      "43250                                   DOMESTIC BATTERY             1  ...   \n",
      "42545                        CRIMINAL DAMAGE TO PROPERTY             1  ...   \n",
      "52248                VIOLATION OF AN ORDER OF PROTECTION             1  ...   \n",
      "52514                                 UNLAWFUL RESTRAINT             1  ...   \n",
      "42211                        CRIMINAL DAMAGE TO PROPERTY             1  ...   \n",
      "\n",
      "      age_derived sentenceymd_derived sentenceym_derived judgeid_derived  \\\n",
      "57587        21.0          2019-04-25         2019-04-01         judge_1   \n",
      "58879        24.0          2019-04-25         2019-04-01         judge_1   \n",
      "62770        48.0          2019-04-29         2019-04-01         judge_1   \n",
      "60794         NaN          2019-04-30         2019-04-01         judge_1   \n",
      "60718        19.0          2019-05-06         2019-05-01         judge_1   \n",
      "...           ...                 ...                ...             ...   \n",
      "43250        34.0          2017-03-02         2017-03-01       judge_335   \n",
      "42545        24.0          2017-04-05         2017-04-01       judge_335   \n",
      "52248        39.0          2017-07-31         2017-07-01       judge_335   \n",
      "52514        25.0          2017-10-23         2017-10-01       judge_335   \n",
      "42211        35.0          2017-11-01         2017-11-01       judge_335   \n",
      "\n",
      "      sentence_length sentence_length_zscore is_guilty_plea is_innocent_plea  \\\n",
      "57587             1.0              -0.249698              1                0   \n",
      "58879             3.0              -0.325828              1                0   \n",
      "62770             2.0              -0.143144              1                0   \n",
      "60794             1.0              -0.140338              1                0   \n",
      "60718             2.0              -1.300083              1                0   \n",
      "...               ...                    ...            ...              ...   \n",
      "43250             1.5               0.048472              1                0   \n",
      "42545             1.0              -0.243430              1                0   \n",
      "52248             1.5              -0.398988              1                0   \n",
      "52514             1.0              -1.023209              1                0   \n",
      "42211             2.0               0.349049              1                0   \n",
      "\n",
      "      is_female_derived sentenceymd_derived_dt  \n",
      "57587                 0             2019-04-25  \n",
      "58879                 0             2019-04-25  \n",
      "62770                 0             2019-04-29  \n",
      "60794                 0             2019-04-30  \n",
      "60718                 0             2019-05-06  \n",
      "...                 ...                    ...  \n",
      "43250                 0             2017-03-02  \n",
      "42545                 0             2017-04-05  \n",
      "52248                 0             2017-07-31  \n",
      "52514                 0             2017-10-23  \n",
      "42211                 1             2017-11-01  \n",
      "\n",
      "[65857 rows x 59 columns]>\n",
      "       nth_case       SENTENCE_JUDGE sentenceymd_derived_dt\n",
      "57587         1      Adrienne  Davis             2019-04-25\n",
      "58879         2      Adrienne  Davis             2019-04-25\n",
      "62770         3      Adrienne  Davis             2019-04-29\n",
      "60794         4      Adrienne  Davis             2019-04-30\n",
      "60718         5      Adrienne  Davis             2019-05-06\n",
      "...         ...                  ...                    ...\n",
      "43250        18  Yolande M Bourgeois             2017-03-02\n",
      "42545        19  Yolande M Bourgeois             2017-04-05\n",
      "52248        20  Yolande M Bourgeois             2017-07-31\n",
      "52514        21  Yolande M Bourgeois             2017-10-23\n",
      "42211        22  Yolande M Bourgeois             2017-11-01\n",
      "\n",
      "[65857 rows x 3 columns]\n"
     ]
    }
   ],
   "source": [
    "## Creating a variable for each case that indicates how many cases the assigned judge has seen (measure of judicial experience)\n",
    "## Did not make this into a function because the task is too specific\n",
    "\n",
    "## Sorting Values by Sentence Date and Judge: \n",
    "\n",
    "sentencing_df_sorted = sentencing_df.sort_values([\"SENTENCE_JUDGE\", \"sentenceymd_derived_dt\"])\n",
    "\n",
    "## checking to make suresorting worked \n",
    "\n",
    "print(sentencing_df_sorted.head)\n",
    "\n",
    "## Creating column for Nth case (nth_case)\n",
    "\n",
    "sentencing_df_sorted[\"nth_case\"] = sentencing_df_sorted.groupby(\"SENTENCE_JUDGE\").cumcount() + 1\n",
    "\n",
    "## checking to make sure nth case works:\n",
    "\n",
    "print(sentencing_df_sorted[[\"nth_case\", \"SENTENCE_JUDGE\", \"sentenceymd_derived_dt\"]])\n"
   ]
  },
  {
   "cell_type": "markdown",
   "id": "435477eb",
   "metadata": {},
   "source": [
    "## Exporting CSV to Data folder"
   ]
  },
  {
   "cell_type": "code",
   "execution_count": 9,
   "id": "fa9b826b",
   "metadata": {},
   "outputs": [],
   "source": [
    "## Data to be used in regression and visualizations\n",
    "\n",
    "sentencing_df_sorted.to_csv(r'../Data/sentencing_data_for_analysis.csv')"
   ]
  }
 ],
 "metadata": {
  "kernelspec": {
   "display_name": "Python 3 (ipykernel)",
   "language": "python",
   "name": "python3"
  },
  "language_info": {
   "codemirror_mode": {
    "name": "ipython",
    "version": 3
   },
   "file_extension": ".py",
   "mimetype": "text/x-python",
   "name": "python",
   "nbconvert_exporter": "python",
   "pygments_lexer": "ipython3",
   "version": "3.9.7"
  }
 },
 "nbformat": 4,
 "nbformat_minor": 5
}
