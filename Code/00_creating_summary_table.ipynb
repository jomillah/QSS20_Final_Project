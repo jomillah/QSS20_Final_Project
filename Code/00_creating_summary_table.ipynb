{
 "cells": [
  {
   "cell_type": "markdown",
   "metadata": {},
   "source": [
    "## Load packages"
   ]
  },
  {
   "cell_type": "code",
   "execution_count": 4,
   "metadata": {},
   "outputs": [],
   "source": [
    "import pandas as pd\n",
    "import numpy as np\n",
    "import random\n",
    "import re\n",
    "import os\n",
    "\n",
    "from IPython.core.interactiveshell import InteractiveShell\n",
    "InteractiveShell.ast_node_interactivity = \"all\"\n",
    "\n"
   ]
  },
  {
   "cell_type": "markdown",
   "metadata": {},
   "source": [
    "## Load and inspect data "
   ]
  },
  {
   "cell_type": "code",
   "execution_count": 5,
   "metadata": {
    "scrolled": false
   },
   "outputs": [
    {
     "name": "stdout",
     "output_type": "stream",
     "text": [
      "        CASE_ID  CASE_PARTICIPANT_ID          RECEIVED_DATE  \\\n",
      "0  149765331439         175691153649  8/15/1984 12:00:00 AM   \n",
      "1  150065796098         162105612284  8/23/1984 12:00:00 AM   \n",
      "2  154954734978         225758446387   6/8/2001 12:00:00 AM   \n",
      "3  155222744754         217349881776  1/31/2001 12:00:00 AM   \n",
      "4  155327892699         217212381455   2/6/2001 12:00:00 AM   \n",
      "\n",
      "    OFFENSE_CATEGORY  PRIMARY_CHARGE_FLAG    CHARGE_ID  CHARGE_VERSION_ID  \\\n",
      "0  PROMIS Conversion                 True  50510062193       112898098217   \n",
      "1  PROMIS Conversion                 True  50792360681       113332130159   \n",
      "2  PROMIS Conversion                 True  54885211141       174293345821   \n",
      "3  PROMIS Conversion                 True  53899906462       280120721775   \n",
      "4  PROMIS Conversion                 True  53938518259       164877860811   \n",
      "\n",
      "                   DISPOSITION_CHARGED_OFFENSE_TITLE  CHARGE_COUNT  \\\n",
      "0                                FIRST DEGREE MURDER             1   \n",
      "1                                FIRST DEGREE MURDER             1   \n",
      "2                              VIO BAIL BOND/CLASS 1             1   \n",
      "3                    POSS AMT CON SUB EXCEPT (A)/(D)             1   \n",
      "4  DUI LIC SUSPENDED OR REVOKED (EFFECTIVE 4-13-2...             1   \n",
      "\n",
      "         DISPOSITION_DATE  ... simplified_offense_derived is_black_derived  \\\n",
      "0  12/17/2014 12:00:00 AM  ...                   Homicide             True   \n",
      "1    8/6/2014 12:00:00 AM  ...                   Homicide             True   \n",
      "2   12/2/2013 12:00:00 AM  ...          PROMIS Conversion            False   \n",
      "3   9/10/2012 12:00:00 AM  ...                  Narcotics             True   \n",
      "4   9/19/2014 12:00:00 AM  ...          PROMIS Conversion            False   \n",
      "\n",
      "  is_hisp_derived is_white_derived is_other_derived is_male_derived  \\\n",
      "0           False            False            False            True   \n",
      "1           False            False            False            True   \n",
      "2            True            False            False            True   \n",
      "3           False            False            False           False   \n",
      "4           False             True            False            True   \n",
      "\n",
      "  age_derived sentenceymd_derived sentenceym_derived judgeid_derived  \n",
      "0        27.0          2014-10-16         2014-10-01        judge_40  \n",
      "1        30.0          2014-08-06         2014-08-01       judge_310  \n",
      "2        38.0          2013-12-02         2013-12-01       judge_162  \n",
      "3        33.0          2012-09-10         2012-09-01       judge_331  \n",
      "4        49.0          2014-09-19         2014-09-01       judge_314  \n",
      "\n",
      "[5 rows x 52 columns]\n",
      "(135165, 52)\n",
      "<bound method DataFrame.info of              CASE_ID  CASE_PARTICIPANT_ID          RECEIVED_DATE  \\\n",
      "0       149765331439         175691153649  8/15/1984 12:00:00 AM   \n",
      "1       150065796098         162105612284  8/23/1984 12:00:00 AM   \n",
      "2       154954734978         225758446387   6/8/2001 12:00:00 AM   \n",
      "3       155222744754         217349881776  1/31/2001 12:00:00 AM   \n",
      "4       155327892699         217212381455   2/6/2001 12:00:00 AM   \n",
      "...              ...                  ...                    ...   \n",
      "135160  445516248775         905289187184   2/3/2021 12:00:00 AM   \n",
      "135161  445527409730         905322500577   2/4/2021 12:00:00 AM   \n",
      "135162  445587767000         905518794790   2/9/2021 12:00:00 AM   \n",
      "135163  445592613204         905533705601   2/9/2021 12:00:00 AM   \n",
      "135164  445593200623         905535215556   2/9/2021 12:00:00 AM   \n",
      "\n",
      "                                 OFFENSE_CATEGORY  PRIMARY_CHARGE_FLAG  \\\n",
      "0                               PROMIS Conversion                 True   \n",
      "1                               PROMIS Conversion                 True   \n",
      "2                               PROMIS Conversion                 True   \n",
      "3                               PROMIS Conversion                 True   \n",
      "4                               PROMIS Conversion                 True   \n",
      "...                                           ...                  ...   \n",
      "135160                              Home Invasion                 True   \n",
      "135161                           Domestic Battery                 True   \n",
      "135162  Driving With Suspended Or Revoked License                 True   \n",
      "135163  Driving With Suspended Or Revoked License                 True   \n",
      "135164  Driving With Suspended Or Revoked License                 True   \n",
      "\n",
      "           CHARGE_ID  CHARGE_VERSION_ID  \\\n",
      "0        50510062193       112898098217   \n",
      "1        50792360681       113332130159   \n",
      "2        54885211141       174293345821   \n",
      "3        53899906462       280120721775   \n",
      "4        53938518259       164877860811   \n",
      "...              ...                ...   \n",
      "135160  447867029248       836341344232   \n",
      "135161  447970697900       836537247156   \n",
      "135162  447955866546       837760215766   \n",
      "135163  447966223356       837758347354   \n",
      "135164  447966323908       837759561822   \n",
      "\n",
      "                        DISPOSITION_CHARGED_OFFENSE_TITLE  CHARGE_COUNT  \\\n",
      "0                                     FIRST DEGREE MURDER             1   \n",
      "1                                     FIRST DEGREE MURDER             1   \n",
      "2                                   VIO BAIL BOND/CLASS 1             1   \n",
      "3                         POSS AMT CON SUB EXCEPT (A)/(D)             1   \n",
      "4       DUI LIC SUSPENDED OR REVOKED (EFFECTIVE 4-13-2...             1   \n",
      "...                                                   ...           ...   \n",
      "135160                  AGGRAVATED UNLAWFUL USE OF WEAPON             1   \n",
      "135161                                   DOMESTIC BATTERY             1   \n",
      "135162                       DRIVING ON SUSPENDED LICENSE             1   \n",
      "135163                       DRIVING ON SUSPENDED LICENSE             1   \n",
      "135164                       DRIVING ON SUSPENDED LICENSE             1   \n",
      "\n",
      "              DISPOSITION_DATE  ...  \\\n",
      "0       12/17/2014 12:00:00 AM  ...   \n",
      "1         8/6/2014 12:00:00 AM  ...   \n",
      "2        12/2/2013 12:00:00 AM  ...   \n",
      "3        9/10/2012 12:00:00 AM  ...   \n",
      "4        9/19/2014 12:00:00 AM  ...   \n",
      "...                        ...  ...   \n",
      "135160   3/19/2021 12:00:00 AM  ...   \n",
      "135161   3/23/2021 12:00:00 AM  ...   \n",
      "135162   3/11/2021 12:00:00 AM  ...   \n",
      "135163   3/11/2021 12:00:00 AM  ...   \n",
      "135164   3/21/2021 12:00:00 AM  ...   \n",
      "\n",
      "                       simplified_offense_derived is_black_derived  \\\n",
      "0                                        Homicide             True   \n",
      "1                                        Homicide             True   \n",
      "2                               PROMIS Conversion            False   \n",
      "3                                       Narcotics             True   \n",
      "4                               PROMIS Conversion            False   \n",
      "...                                           ...              ...   \n",
      "135160               UUW - Unlawful Use of Weapon             True   \n",
      "135161                                    Battery             True   \n",
      "135162  Driving With Suspended Or Revoked License            False   \n",
      "135163  Driving With Suspended Or Revoked License            False   \n",
      "135164  Driving With Suspended Or Revoked License            False   \n",
      "\n",
      "       is_hisp_derived is_white_derived is_other_derived is_male_derived  \\\n",
      "0                False            False            False            True   \n",
      "1                False            False            False            True   \n",
      "2                 True            False            False            True   \n",
      "3                False            False            False           False   \n",
      "4                False             True            False            True   \n",
      "...                ...              ...              ...             ...   \n",
      "135160           False            False            False           False   \n",
      "135161           False            False            False            True   \n",
      "135162           False             True            False            True   \n",
      "135163           False             True            False            True   \n",
      "135164           False             True            False            True   \n",
      "\n",
      "       age_derived sentenceymd_derived sentenceym_derived judgeid_derived  \n",
      "0             27.0          2014-10-16         2014-10-01        judge_40  \n",
      "1             30.0          2014-08-06         2014-08-01       judge_310  \n",
      "2             38.0          2013-12-02         2013-12-01       judge_162  \n",
      "3             33.0          2012-09-10         2012-09-01       judge_331  \n",
      "4             49.0          2014-09-19         2014-09-01       judge_314  \n",
      "...            ...                 ...                ...             ...  \n",
      "135160        19.0          2021-03-19         2021-03-01         judge_8  \n",
      "135161        32.0          2021-03-23         2021-03-01       judge_294  \n",
      "135162        29.0          2021-03-11         2021-03-01        judge_99  \n",
      "135163        29.0          2021-03-11         2021-03-01        judge_99  \n",
      "135164        30.0          2021-03-11         2021-03-01        judge_99  \n",
      "\n",
      "[135165 rows x 52 columns]>\n"
     ]
    }
   ],
   "source": [
    "sentencing_data_cleaned = pd.read_csv(\"../Data/sentencing_cleaned.csv\", low_memory = False)\n",
    "\n",
    "print(sentencing_data_cleaned.head())\n",
    "print(sentencing_data_cleaned.shape)\n",
    "print(sentencing_data_cleaned.info)\n",
    "\n"
   ]
  },
  {
   "cell_type": "markdown",
   "metadata": {},
   "source": [
    "## Create Summary Table for Data"
   ]
  },
  {
   "cell_type": "code",
   "execution_count": 14,
   "metadata": {},
   "outputs": [
    {
     "name": "stdout",
     "output_type": "stream",
     "text": [
      "            CASE_ID  CASE_PARTICIPANT_ID     CHARGE_ID  CHARGE_VERSION_ID  \\\n",
      "count  1.351650e+05         1.351650e+05  1.351650e+05       1.351650e+05   \n",
      "mean   4.081400e+11         7.865261e+11  3.852045e+11       7.224473e+11   \n",
      "std    2.610255e+10         8.310477e+10  3.921284e+10       7.105050e+10   \n",
      "min    1.497653e+11         9.706456e+10  5.051006e+10       9.387179e+10   \n",
      "25%    3.970040e+11         7.516989e+11  3.651804e+11       6.823162e+11   \n",
      "50%    4.097843e+11         7.912658e+11  3.860591e+11       7.226370e+11   \n",
      "75%    4.226517e+11         8.322698e+11  4.092573e+11       7.682182e+11   \n",
      "max    4.455932e+11         9.055352e+11  4.484368e+11       8.385970e+11   \n",
      "\n",
      "        CHARGE_COUNT  LENGTH_OF_CASE_in_Days  AGE_AT_INCIDENT    age_derived  \n",
      "count  135165.000000           127360.000000    129743.000000  129743.000000  \n",
      "mean        1.011098              263.150997        33.385054      33.382502  \n",
      "std         0.310597             2350.411077        11.942125      11.927062  \n",
      "min         1.000000          -328549.000000        17.000000      17.000000  \n",
      "25%         1.000000               63.000000        23.000000      23.000000  \n",
      "50%         1.000000              161.000000        31.000000      31.000000  \n",
      "75%         1.000000              335.000000        42.000000      42.000000  \n",
      "max        61.000000           329379.000000       137.000000      81.000000  \n"
     ]
    }
   ],
   "source": [
    "## Creating initial summary table for data: \n",
    "\n",
    "summary_table = sentencing_data_cleaned.describe()\n",
    "\n",
    "print(summary_table)\n"
   ]
  },
  {
   "cell_type": "markdown",
   "metadata": {},
   "source": [
    "## Exporting Summary Table "
   ]
  },
  {
   "cell_type": "code",
   "execution_count": 16,
   "metadata": {},
   "outputs": [],
   "source": [
    "summary_table.to_csv(r'../Output/Tables/Summary_Table.csv')"
   ]
  }
 ],
 "metadata": {
  "kernelspec": {
   "display_name": "Python 3 (ipykernel)",
   "language": "python",
   "name": "python3"
  },
  "language_info": {
   "codemirror_mode": {
    "name": "ipython",
    "version": 3
   },
   "file_extension": ".py",
   "mimetype": "text/x-python",
   "name": "python",
   "nbconvert_exporter": "python",
   "pygments_lexer": "ipython3",
   "version": "3.9.7"
  }
 },
 "nbformat": 4,
 "nbformat_minor": 4
}
